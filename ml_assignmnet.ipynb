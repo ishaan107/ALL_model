{
  "nbformat": 4,
  "nbformat_minor": 0,
  "metadata": {
    "colab": {
      "name": "ml_assignmnet.ipynb",
      "provenance": []
    },
    "kernelspec": {
      "name": "python3",
      "display_name": "Python 3"
    },
    "language_info": {
      "name": "python"
    }
  },
  "cells": [
    {
      "cell_type": "code",
      "metadata": {
        "colab": {
          "resources": {
            "http://localhost:8080/nbextensions/google.colab/files.js": {
              "data": "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",
              "ok": true,
              "headers": [
                [
                  "content-type",
                  "application/javascript"
                ]
              ],
              "status": 200,
              "status_text": ""
            }
          },
          "base_uri": "https://localhost:8080/",
          "height": 73
        },
        "id": "zuy0NETp2mw2",
        "outputId": "601d0ea9-0c30-4905-d20d-5d510243822b"
      },
      "source": [
        "from google.colab import files\n",
        "uploaded = files.upload()"
      ],
      "execution_count": 1,
      "outputs": [
        {
          "output_type": "display_data",
          "data": {
            "text/html": [
              "\n",
              "     <input type=\"file\" id=\"files-5e3eef44-40b3-490c-b338-664c7b01a956\" name=\"files[]\" multiple disabled\n",
              "        style=\"border:none\" />\n",
              "     <output id=\"result-5e3eef44-40b3-490c-b338-664c7b01a956\">\n",
              "      Upload widget is only available when the cell has been executed in the\n",
              "      current browser session. Please rerun this cell to enable.\n",
              "      </output>\n",
              "      <script src=\"/nbextensions/google.colab/files.js\"></script> "
            ],
            "text/plain": [
              "<IPython.core.display.HTML object>"
            ]
          },
          "metadata": {
            "tags": []
          }
        },
        {
          "output_type": "stream",
          "text": [
            "Saving Fish.csv to Fish (2).csv\n"
          ],
          "name": "stdout"
        }
      ]
    },
    {
      "cell_type": "code",
      "metadata": {
        "id": "oUfclGW52oic"
      },
      "source": [
        "import pandas as pd\n",
        "import numpy as np\n",
        "import matplotlib.pyplot as plt\n"
      ],
      "execution_count": 2,
      "outputs": []
    },
    {
      "cell_type": "code",
      "metadata": {
        "id": "3RXwuwA12w7D"
      },
      "source": [
        "train=pd.read_csv(\"Fish.csv\")\n",
        "train=pd.DataFrame(train);"
      ],
      "execution_count": 3,
      "outputs": []
    },
    {
      "cell_type": "code",
      "metadata": {
        "colab": {
          "base_uri": "https://localhost:8080/",
          "height": 194
        },
        "id": "FhSz_DOX2zIR",
        "outputId": "c98abebc-b581-4cef-8b34-3961196232da"
      },
      "source": [
        "train=train.sample(frac = 1)\n",
        "train.head()"
      ],
      "execution_count": 4,
      "outputs": [
        {
          "output_type": "execute_result",
          "data": {
            "text/html": [
              "<div>\n",
              "<style scoped>\n",
              "    .dataframe tbody tr th:only-of-type {\n",
              "        vertical-align: middle;\n",
              "    }\n",
              "\n",
              "    .dataframe tbody tr th {\n",
              "        vertical-align: top;\n",
              "    }\n",
              "\n",
              "    .dataframe thead th {\n",
              "        text-align: right;\n",
              "    }\n",
              "</style>\n",
              "<table border=\"1\" class=\"dataframe\">\n",
              "  <thead>\n",
              "    <tr style=\"text-align: right;\">\n",
              "      <th></th>\n",
              "      <th>Species</th>\n",
              "      <th>Weight</th>\n",
              "      <th>Length1</th>\n",
              "      <th>Length2</th>\n",
              "      <th>Length3</th>\n",
              "      <th>Height</th>\n",
              "      <th>Width</th>\n",
              "    </tr>\n",
              "  </thead>\n",
              "  <tbody>\n",
              "    <tr>\n",
              "      <th>102</th>\n",
              "      <td>Perch</td>\n",
              "      <td>300.0</td>\n",
              "      <td>25.2</td>\n",
              "      <td>27.3</td>\n",
              "      <td>28.7</td>\n",
              "      <td>8.3230</td>\n",
              "      <td>5.1373</td>\n",
              "    </tr>\n",
              "    <tr>\n",
              "      <th>54</th>\n",
              "      <td>Roach</td>\n",
              "      <td>390.0</td>\n",
              "      <td>29.5</td>\n",
              "      <td>31.7</td>\n",
              "      <td>35.0</td>\n",
              "      <td>9.4850</td>\n",
              "      <td>5.3550</td>\n",
              "    </tr>\n",
              "    <tr>\n",
              "      <th>18</th>\n",
              "      <td>Bream</td>\n",
              "      <td>610.0</td>\n",
              "      <td>30.9</td>\n",
              "      <td>33.5</td>\n",
              "      <td>38.6</td>\n",
              "      <td>15.6330</td>\n",
              "      <td>5.1338</td>\n",
              "    </tr>\n",
              "    <tr>\n",
              "      <th>149</th>\n",
              "      <td>Smelt</td>\n",
              "      <td>9.8</td>\n",
              "      <td>10.7</td>\n",
              "      <td>11.2</td>\n",
              "      <td>12.4</td>\n",
              "      <td>2.0832</td>\n",
              "      <td>1.2772</td>\n",
              "    </tr>\n",
              "    <tr>\n",
              "      <th>28</th>\n",
              "      <td>Bream</td>\n",
              "      <td>850.0</td>\n",
              "      <td>32.8</td>\n",
              "      <td>36.0</td>\n",
              "      <td>41.6</td>\n",
              "      <td>16.8896</td>\n",
              "      <td>6.1984</td>\n",
              "    </tr>\n",
              "  </tbody>\n",
              "</table>\n",
              "</div>"
            ],
            "text/plain": [
              "    Species  Weight  Length1  Length2  Length3   Height   Width\n",
              "102   Perch   300.0     25.2     27.3     28.7   8.3230  5.1373\n",
              "54    Roach   390.0     29.5     31.7     35.0   9.4850  5.3550\n",
              "18    Bream   610.0     30.9     33.5     38.6  15.6330  5.1338\n",
              "149   Smelt     9.8     10.7     11.2     12.4   2.0832  1.2772\n",
              "28    Bream   850.0     32.8     36.0     41.6  16.8896  6.1984"
            ]
          },
          "metadata": {
            "tags": []
          },
          "execution_count": 4
        }
      ]
    },
    {
      "cell_type": "code",
      "metadata": {
        "id": "6vdk2TFH21Tu"
      },
      "source": [
        "supervised=train"
      ],
      "execution_count": 5,
      "outputs": []
    },
    {
      "cell_type": "markdown",
      "metadata": {
        "id": "ErkJaggVu133"
      },
      "source": [
        "LINEAR REGRESSION"
      ]
    },
    {
      "cell_type": "code",
      "metadata": {
        "id": "7yqZ4uwp3Fsx"
      },
      "source": [
        "supervised=supervised.drop(['Species'],axis=1)"
      ],
      "execution_count": 6,
      "outputs": []
    },
    {
      "cell_type": "code",
      "metadata": {
        "id": "uMIBoXa28HPR"
      },
      "source": [
        "supervised=supervised.dropna()"
      ],
      "execution_count": 7,
      "outputs": []
    },
    {
      "cell_type": "code",
      "metadata": {
        "id": "3lfj-Emz3L1V"
      },
      "source": [
        "y=supervised['Weight']"
      ],
      "execution_count": 8,
      "outputs": []
    },
    {
      "cell_type": "code",
      "metadata": {
        "id": "xHMM3N6wKPp4"
      },
      "source": [
        "supervised=supervised.drop(['Weight'],axis=1)"
      ],
      "execution_count": 9,
      "outputs": []
    },
    {
      "cell_type": "code",
      "metadata": {
        "id": "T8nNBsTAGfoX"
      },
      "source": [
        "from sklearn.preprocessing import MinMaxScaler\n",
        "scaler=MinMaxScaler()"
      ],
      "execution_count": 10,
      "outputs": []
    },
    {
      "cell_type": "code",
      "metadata": {
        "id": "2km09v3VGlUf"
      },
      "source": [
        "supervised=scaler.fit_transform(supervised)"
      ],
      "execution_count": 11,
      "outputs": []
    },
    {
      "cell_type": "code",
      "metadata": {
        "id": "f6QlbsBbHMWV"
      },
      "source": [
        "supervised_df=pd.DataFrame(supervised)"
      ],
      "execution_count": 12,
      "outputs": []
    },
    {
      "cell_type": "code",
      "metadata": {
        "id": "pTY38Mv5HVJ2"
      },
      "source": [
        "supervised_df.columns=[ 'Length1',' Length2','Length3','Height','Width']"
      ],
      "execution_count": 13,
      "outputs": []
    },
    {
      "cell_type": "code",
      "metadata": {
        "colab": {
          "base_uri": "https://localhost:8080/",
          "height": 399
        },
        "id": "olaRcZsKIjFr",
        "outputId": "d53f40e7-bae2-42af-be2a-6a8ab58f6418"
      },
      "source": [
        "supervised_df"
      ],
      "execution_count": 14,
      "outputs": [
        {
          "output_type": "execute_result",
          "data": {
            "text/html": [
              "<div>\n",
              "<style scoped>\n",
              "    .dataframe tbody tr th:only-of-type {\n",
              "        vertical-align: middle;\n",
              "    }\n",
              "\n",
              "    .dataframe tbody tr th {\n",
              "        vertical-align: top;\n",
              "    }\n",
              "\n",
              "    .dataframe thead th {\n",
              "        text-align: right;\n",
              "    }\n",
              "</style>\n",
              "<table border=\"1\" class=\"dataframe\">\n",
              "  <thead>\n",
              "    <tr style=\"text-align: right;\">\n",
              "      <th></th>\n",
              "      <th>Length1</th>\n",
              "      <th>Length2</th>\n",
              "      <th>Length3</th>\n",
              "      <th>Height</th>\n",
              "      <th>Width</th>\n",
              "    </tr>\n",
              "  </thead>\n",
              "  <tbody>\n",
              "    <tr>\n",
              "      <th>0</th>\n",
              "      <td>0.343689</td>\n",
              "      <td>0.343636</td>\n",
              "      <td>0.336149</td>\n",
              "      <td>0.382771</td>\n",
              "      <td>0.576469</td>\n",
              "    </tr>\n",
              "    <tr>\n",
              "      <th>1</th>\n",
              "      <td>0.427184</td>\n",
              "      <td>0.423636</td>\n",
              "      <td>0.442568</td>\n",
              "      <td>0.450217</td>\n",
              "      <td>0.607155</td>\n",
              "    </tr>\n",
              "    <tr>\n",
              "      <th>2</th>\n",
              "      <td>0.454369</td>\n",
              "      <td>0.456364</td>\n",
              "      <td>0.503378</td>\n",
              "      <td>0.807065</td>\n",
              "      <td>0.575975</td>\n",
              "    </tr>\n",
              "    <tr>\n",
              "      <th>3</th>\n",
              "      <td>0.062136</td>\n",
              "      <td>0.050909</td>\n",
              "      <td>0.060811</td>\n",
              "      <td>0.020594</td>\n",
              "      <td>0.032364</td>\n",
              "    </tr>\n",
              "    <tr>\n",
              "      <th>4</th>\n",
              "      <td>0.491262</td>\n",
              "      <td>0.501818</td>\n",
              "      <td>0.554054</td>\n",
              "      <td>0.880002</td>\n",
              "      <td>0.726037</td>\n",
              "    </tr>\n",
              "    <tr>\n",
              "      <th>...</th>\n",
              "      <td>...</td>\n",
              "      <td>...</td>\n",
              "      <td>...</td>\n",
              "      <td>...</td>\n",
              "      <td>...</td>\n",
              "    </tr>\n",
              "    <tr>\n",
              "      <th>154</th>\n",
              "      <td>0.351456</td>\n",
              "      <td>0.356364</td>\n",
              "      <td>0.371622</td>\n",
              "      <td>0.409180</td>\n",
              "      <td>0.512235</td>\n",
              "    </tr>\n",
              "    <tr>\n",
              "      <th>155</th>\n",
              "      <td>0.194175</td>\n",
              "      <td>0.189091</td>\n",
              "      <td>0.209459</td>\n",
              "      <td>0.223303</td>\n",
              "      <td>0.261728</td>\n",
              "    </tr>\n",
              "    <tr>\n",
              "      <th>156</th>\n",
              "      <td>0.792233</td>\n",
              "      <td>0.787273</td>\n",
              "      <td>0.782095</td>\n",
              "      <td>0.417782</td>\n",
              "      <td>0.722203</td>\n",
              "    </tr>\n",
              "    <tr>\n",
              "      <th>157</th>\n",
              "      <td>0.207767</td>\n",
              "      <td>0.210909</td>\n",
              "      <td>0.206081</td>\n",
              "      <td>0.194653</td>\n",
              "      <td>0.243065</td>\n",
              "    </tr>\n",
              "    <tr>\n",
              "      <th>158</th>\n",
              "      <td>0.073786</td>\n",
              "      <td>0.061818</td>\n",
              "      <td>0.072635</td>\n",
              "      <td>0.028180</td>\n",
              "      <td>0.016675</td>\n",
              "    </tr>\n",
              "  </tbody>\n",
              "</table>\n",
              "<p>159 rows × 5 columns</p>\n",
              "</div>"
            ],
            "text/plain": [
              "      Length1   Length2   Length3    Height     Width\n",
              "0    0.343689  0.343636  0.336149  0.382771  0.576469\n",
              "1    0.427184  0.423636  0.442568  0.450217  0.607155\n",
              "2    0.454369  0.456364  0.503378  0.807065  0.575975\n",
              "3    0.062136  0.050909  0.060811  0.020594  0.032364\n",
              "4    0.491262  0.501818  0.554054  0.880002  0.726037\n",
              "..        ...       ...       ...       ...       ...\n",
              "154  0.351456  0.356364  0.371622  0.409180  0.512235\n",
              "155  0.194175  0.189091  0.209459  0.223303  0.261728\n",
              "156  0.792233  0.787273  0.782095  0.417782  0.722203\n",
              "157  0.207767  0.210909  0.206081  0.194653  0.243065\n",
              "158  0.073786  0.061818  0.072635  0.028180  0.016675\n",
              "\n",
              "[159 rows x 5 columns]"
            ]
          },
          "metadata": {
            "tags": []
          },
          "execution_count": 14
        }
      ]
    },
    {
      "cell_type": "code",
      "metadata": {
        "id": "1ZQuhwgqKZ2Y"
      },
      "source": [
        "y=scaler.fit_transform(y.values.reshape(-1,1))"
      ],
      "execution_count": 15,
      "outputs": []
    },
    {
      "cell_type": "code",
      "metadata": {
        "id": "YnBWe3pQLEDK"
      },
      "source": [
        "y=pd.DataFrame(y)"
      ],
      "execution_count": 16,
      "outputs": []
    },
    {
      "cell_type": "code",
      "metadata": {
        "id": "qBkaFZgjLIDr"
      },
      "source": [
        "y.columns=['Weight']"
      ],
      "execution_count": 17,
      "outputs": []
    },
    {
      "cell_type": "code",
      "metadata": {
        "colab": {
          "base_uri": "https://localhost:8080/",
          "height": 399
        },
        "id": "I6g_aDa8LhkP",
        "outputId": "5b686aff-4f42-4dc1-8f67-1383cfd98d03"
      },
      "source": [
        "y"
      ],
      "execution_count": 18,
      "outputs": [
        {
          "output_type": "execute_result",
          "data": {
            "text/html": [
              "<div>\n",
              "<style scoped>\n",
              "    .dataframe tbody tr th:only-of-type {\n",
              "        vertical-align: middle;\n",
              "    }\n",
              "\n",
              "    .dataframe tbody tr th {\n",
              "        vertical-align: top;\n",
              "    }\n",
              "\n",
              "    .dataframe thead th {\n",
              "        text-align: right;\n",
              "    }\n",
              "</style>\n",
              "<table border=\"1\" class=\"dataframe\">\n",
              "  <thead>\n",
              "    <tr style=\"text-align: right;\">\n",
              "      <th></th>\n",
              "      <th>Weight</th>\n",
              "    </tr>\n",
              "  </thead>\n",
              "  <tbody>\n",
              "    <tr>\n",
              "      <th>0</th>\n",
              "      <td>0.181818</td>\n",
              "    </tr>\n",
              "    <tr>\n",
              "      <th>1</th>\n",
              "      <td>0.236364</td>\n",
              "    </tr>\n",
              "    <tr>\n",
              "      <th>2</th>\n",
              "      <td>0.369697</td>\n",
              "    </tr>\n",
              "    <tr>\n",
              "      <th>3</th>\n",
              "      <td>0.005939</td>\n",
              "    </tr>\n",
              "    <tr>\n",
              "      <th>4</th>\n",
              "      <td>0.515152</td>\n",
              "    </tr>\n",
              "    <tr>\n",
              "      <th>...</th>\n",
              "      <td>...</td>\n",
              "    </tr>\n",
              "    <tr>\n",
              "      <th>154</th>\n",
              "      <td>0.185455</td>\n",
              "    </tr>\n",
              "    <tr>\n",
              "      <th>155</th>\n",
              "      <td>0.047273</td>\n",
              "    </tr>\n",
              "    <tr>\n",
              "      <th>156</th>\n",
              "      <td>0.575758</td>\n",
              "    </tr>\n",
              "    <tr>\n",
              "      <th>157</th>\n",
              "      <td>0.051515</td>\n",
              "    </tr>\n",
              "    <tr>\n",
              "      <th>158</th>\n",
              "      <td>0.006000</td>\n",
              "    </tr>\n",
              "  </tbody>\n",
              "</table>\n",
              "<p>159 rows × 1 columns</p>\n",
              "</div>"
            ],
            "text/plain": [
              "       Weight\n",
              "0    0.181818\n",
              "1    0.236364\n",
              "2    0.369697\n",
              "3    0.005939\n",
              "4    0.515152\n",
              "..        ...\n",
              "154  0.185455\n",
              "155  0.047273\n",
              "156  0.575758\n",
              "157  0.051515\n",
              "158  0.006000\n",
              "\n",
              "[159 rows x 1 columns]"
            ]
          },
          "metadata": {
            "tags": []
          },
          "execution_count": 18
        }
      ]
    },
    {
      "cell_type": "code",
      "metadata": {
        "id": "oulxuuOT3dnm"
      },
      "source": [
        "linear_train=supervised_df[0:127]"
      ],
      "execution_count": 19,
      "outputs": []
    },
    {
      "cell_type": "code",
      "metadata": {
        "id": "Qsheporp3kgc"
      },
      "source": [
        "linear_test=supervised_df[128:159]"
      ],
      "execution_count": 20,
      "outputs": []
    },
    {
      "cell_type": "code",
      "metadata": {
        "id": "MYjb6l473osm"
      },
      "source": [
        "y_train=y[0:127]"
      ],
      "execution_count": 21,
      "outputs": []
    },
    {
      "cell_type": "code",
      "metadata": {
        "id": "nlKFZWn73wFq"
      },
      "source": [
        "y_test=y[128:159]"
      ],
      "execution_count": 22,
      "outputs": []
    },
    {
      "cell_type": "code",
      "metadata": {
        "colab": {
          "base_uri": "https://localhost:8080/",
          "height": 399
        },
        "id": "5IZ1egDd3y-O",
        "outputId": "122f2548-27f7-41fe-b3d1-70039ac7861a"
      },
      "source": [
        "linear_train"
      ],
      "execution_count": 23,
      "outputs": [
        {
          "output_type": "execute_result",
          "data": {
            "text/html": [
              "<div>\n",
              "<style scoped>\n",
              "    .dataframe tbody tr th:only-of-type {\n",
              "        vertical-align: middle;\n",
              "    }\n",
              "\n",
              "    .dataframe tbody tr th {\n",
              "        vertical-align: top;\n",
              "    }\n",
              "\n",
              "    .dataframe thead th {\n",
              "        text-align: right;\n",
              "    }\n",
              "</style>\n",
              "<table border=\"1\" class=\"dataframe\">\n",
              "  <thead>\n",
              "    <tr style=\"text-align: right;\">\n",
              "      <th></th>\n",
              "      <th>Length1</th>\n",
              "      <th>Length2</th>\n",
              "      <th>Length3</th>\n",
              "      <th>Height</th>\n",
              "      <th>Width</th>\n",
              "    </tr>\n",
              "  </thead>\n",
              "  <tbody>\n",
              "    <tr>\n",
              "      <th>0</th>\n",
              "      <td>0.343689</td>\n",
              "      <td>0.343636</td>\n",
              "      <td>0.336149</td>\n",
              "      <td>0.382771</td>\n",
              "      <td>0.576469</td>\n",
              "    </tr>\n",
              "    <tr>\n",
              "      <th>1</th>\n",
              "      <td>0.427184</td>\n",
              "      <td>0.423636</td>\n",
              "      <td>0.442568</td>\n",
              "      <td>0.450217</td>\n",
              "      <td>0.607155</td>\n",
              "    </tr>\n",
              "    <tr>\n",
              "      <th>2</th>\n",
              "      <td>0.454369</td>\n",
              "      <td>0.456364</td>\n",
              "      <td>0.503378</td>\n",
              "      <td>0.807065</td>\n",
              "      <td>0.575975</td>\n",
              "    </tr>\n",
              "    <tr>\n",
              "      <th>3</th>\n",
              "      <td>0.062136</td>\n",
              "      <td>0.050909</td>\n",
              "      <td>0.060811</td>\n",
              "      <td>0.020594</td>\n",
              "      <td>0.032364</td>\n",
              "    </tr>\n",
              "    <tr>\n",
              "      <th>4</th>\n",
              "      <td>0.491262</td>\n",
              "      <td>0.501818</td>\n",
              "      <td>0.554054</td>\n",
              "      <td>0.880002</td>\n",
              "      <td>0.726037</td>\n",
              "    </tr>\n",
              "    <tr>\n",
              "      <th>...</th>\n",
              "      <td>...</td>\n",
              "      <td>...</td>\n",
              "      <td>...</td>\n",
              "      <td>...</td>\n",
              "      <td>...</td>\n",
              "    </tr>\n",
              "    <tr>\n",
              "      <th>122</th>\n",
              "      <td>0.034951</td>\n",
              "      <td>0.025455</td>\n",
              "      <td>0.033784</td>\n",
              "      <td>0.000604</td>\n",
              "      <td>0.000000</td>\n",
              "    </tr>\n",
              "    <tr>\n",
              "      <th>123</th>\n",
              "      <td>0.252427</td>\n",
              "      <td>0.256364</td>\n",
              "      <td>0.256757</td>\n",
              "      <td>0.239578</td>\n",
              "      <td>0.363160</td>\n",
              "    </tr>\n",
              "    <tr>\n",
              "      <th>124</th>\n",
              "      <td>0.347573</td>\n",
              "      <td>0.347273</td>\n",
              "      <td>0.339527</td>\n",
              "      <td>0.322394</td>\n",
              "      <td>0.495969</td>\n",
              "    </tr>\n",
              "    <tr>\n",
              "      <th>125</th>\n",
              "      <td>0.281553</td>\n",
              "      <td>0.283636</td>\n",
              "      <td>0.310811</td>\n",
              "      <td>0.336998</td>\n",
              "      <td>0.392930</td>\n",
              "    </tr>\n",
              "    <tr>\n",
              "      <th>126</th>\n",
              "      <td>0.563107</td>\n",
              "      <td>0.556364</td>\n",
              "      <td>0.550676</td>\n",
              "      <td>0.546080</td>\n",
              "      <td>0.698495</td>\n",
              "    </tr>\n",
              "  </tbody>\n",
              "</table>\n",
              "<p>127 rows × 5 columns</p>\n",
              "</div>"
            ],
            "text/plain": [
              "      Length1   Length2   Length3    Height     Width\n",
              "0    0.343689  0.343636  0.336149  0.382771  0.576469\n",
              "1    0.427184  0.423636  0.442568  0.450217  0.607155\n",
              "2    0.454369  0.456364  0.503378  0.807065  0.575975\n",
              "3    0.062136  0.050909  0.060811  0.020594  0.032364\n",
              "4    0.491262  0.501818  0.554054  0.880002  0.726037\n",
              "..        ...       ...       ...       ...       ...\n",
              "122  0.034951  0.025455  0.033784  0.000604  0.000000\n",
              "123  0.252427  0.256364  0.256757  0.239578  0.363160\n",
              "124  0.347573  0.347273  0.339527  0.322394  0.495969\n",
              "125  0.281553  0.283636  0.310811  0.336998  0.392930\n",
              "126  0.563107  0.556364  0.550676  0.546080  0.698495\n",
              "\n",
              "[127 rows x 5 columns]"
            ]
          },
          "metadata": {
            "tags": []
          },
          "execution_count": 23
        }
      ]
    },
    {
      "cell_type": "code",
      "metadata": {
        "colab": {
          "base_uri": "https://localhost:8080/",
          "height": 956
        },
        "id": "h55JQW6F335R",
        "outputId": "dbf8ad3a-c2a3-4aaf-963f-609015911033"
      },
      "source": [
        "linear_test"
      ],
      "execution_count": 24,
      "outputs": [
        {
          "output_type": "execute_result",
          "data": {
            "text/html": [
              "<div>\n",
              "<style scoped>\n",
              "    .dataframe tbody tr th:only-of-type {\n",
              "        vertical-align: middle;\n",
              "    }\n",
              "\n",
              "    .dataframe tbody tr th {\n",
              "        vertical-align: top;\n",
              "    }\n",
              "\n",
              "    .dataframe thead th {\n",
              "        text-align: right;\n",
              "    }\n",
              "</style>\n",
              "<table border=\"1\" class=\"dataframe\">\n",
              "  <thead>\n",
              "    <tr style=\"text-align: right;\">\n",
              "      <th></th>\n",
              "      <th>Length1</th>\n",
              "      <th>Length2</th>\n",
              "      <th>Length3</th>\n",
              "      <th>Height</th>\n",
              "      <th>Width</th>\n",
              "    </tr>\n",
              "  </thead>\n",
              "  <tbody>\n",
              "    <tr>\n",
              "      <th>128</th>\n",
              "      <td>0.310680</td>\n",
              "      <td>0.312727</td>\n",
              "      <td>0.307432</td>\n",
              "      <td>0.280499</td>\n",
              "      <td>0.449848</td>\n",
              "    </tr>\n",
              "    <tr>\n",
              "      <th>129</th>\n",
              "      <td>0.250485</td>\n",
              "      <td>0.247273</td>\n",
              "      <td>0.268581</td>\n",
              "      <td>0.236589</td>\n",
              "      <td>0.381540</td>\n",
              "    </tr>\n",
              "    <tr>\n",
              "      <th>130</th>\n",
              "      <td>0.580583</td>\n",
              "      <td>0.592727</td>\n",
              "      <td>0.626689</td>\n",
              "      <td>0.981333</td>\n",
              "      <td>0.803408</td>\n",
              "    </tr>\n",
              "    <tr>\n",
              "      <th>131</th>\n",
              "      <td>0.411650</td>\n",
              "      <td>0.410909</td>\n",
              "      <td>0.462838</td>\n",
              "      <td>0.733838</td>\n",
              "      <td>0.530982</td>\n",
              "    </tr>\n",
              "    <tr>\n",
              "      <th>132</th>\n",
              "      <td>0.320388</td>\n",
              "      <td>0.320000</td>\n",
              "      <td>0.344595</td>\n",
              "      <td>0.414915</td>\n",
              "      <td>0.486186</td>\n",
              "    </tr>\n",
              "    <tr>\n",
              "      <th>133</th>\n",
              "      <td>0.374757</td>\n",
              "      <td>0.387273</td>\n",
              "      <td>0.437500</td>\n",
              "      <td>0.689203</td>\n",
              "      <td>0.546882</td>\n",
              "    </tr>\n",
              "    <tr>\n",
              "      <th>134</th>\n",
              "      <td>0.475728</td>\n",
              "      <td>0.483636</td>\n",
              "      <td>0.537162</td>\n",
              "      <td>0.849367</td>\n",
              "      <td>0.710758</td>\n",
              "    </tr>\n",
              "    <tr>\n",
              "      <th>135</th>\n",
              "      <td>0.508738</td>\n",
              "      <td>0.509091</td>\n",
              "      <td>0.520270</td>\n",
              "      <td>0.582334</td>\n",
              "      <td>0.778924</td>\n",
              "    </tr>\n",
              "    <tr>\n",
              "      <th>136</th>\n",
              "      <td>0.266019</td>\n",
              "      <td>0.265455</td>\n",
              "      <td>0.287162</td>\n",
              "      <td>0.500180</td>\n",
              "      <td>0.368742</td>\n",
              "    </tr>\n",
              "    <tr>\n",
              "      <th>137</th>\n",
              "      <td>0.252427</td>\n",
              "      <td>0.256364</td>\n",
              "      <td>0.256757</td>\n",
              "      <td>0.293907</td>\n",
              "      <td>0.363160</td>\n",
              "    </tr>\n",
              "    <tr>\n",
              "      <th>138</th>\n",
              "      <td>0.050485</td>\n",
              "      <td>0.040000</td>\n",
              "      <td>0.047297</td>\n",
              "      <td>0.000000</td>\n",
              "      <td>0.014208</td>\n",
              "    </tr>\n",
              "    <tr>\n",
              "      <th>139</th>\n",
              "      <td>0.242718</td>\n",
              "      <td>0.247273</td>\n",
              "      <td>0.248311</td>\n",
              "      <td>0.220221</td>\n",
              "      <td>0.415454</td>\n",
              "    </tr>\n",
              "    <tr>\n",
              "      <th>140</th>\n",
              "      <td>1.000000</td>\n",
              "      <td>1.000000</td>\n",
              "      <td>1.000000</td>\n",
              "      <td>0.527240</td>\n",
              "      <td>0.906687</td>\n",
              "    </tr>\n",
              "    <tr>\n",
              "      <th>141</th>\n",
              "      <td>0.425243</td>\n",
              "      <td>0.429091</td>\n",
              "      <td>0.479730</td>\n",
              "      <td>0.795747</td>\n",
              "      <td>0.638870</td>\n",
              "    </tr>\n",
              "    <tr>\n",
              "      <th>142</th>\n",
              "      <td>0.543689</td>\n",
              "      <td>0.538182</td>\n",
              "      <td>0.535473</td>\n",
              "      <td>0.322812</td>\n",
              "      <td>0.497421</td>\n",
              "    </tr>\n",
              "    <tr>\n",
              "      <th>143</th>\n",
              "      <td>0.611650</td>\n",
              "      <td>0.610909</td>\n",
              "      <td>0.604730</td>\n",
              "      <td>0.642641</td>\n",
              "      <td>0.820478</td>\n",
              "    </tr>\n",
              "    <tr>\n",
              "      <th>144</th>\n",
              "      <td>0.427184</td>\n",
              "      <td>0.429091</td>\n",
              "      <td>0.481419</td>\n",
              "      <td>0.707225</td>\n",
              "      <td>0.567377</td>\n",
              "    </tr>\n",
              "    <tr>\n",
              "      <th>145</th>\n",
              "      <td>0.077670</td>\n",
              "      <td>0.069091</td>\n",
              "      <td>0.077703</td>\n",
              "      <td>0.021012</td>\n",
              "      <td>0.048771</td>\n",
              "    </tr>\n",
              "    <tr>\n",
              "      <th>146</th>\n",
              "      <td>0.225243</td>\n",
              "      <td>0.225455</td>\n",
              "      <td>0.241554</td>\n",
              "      <td>0.257670</td>\n",
              "      <td>0.330979</td>\n",
              "    </tr>\n",
              "    <tr>\n",
              "      <th>147</th>\n",
              "      <td>0.132039</td>\n",
              "      <td>0.129091</td>\n",
              "      <td>0.145270</td>\n",
              "      <td>0.281439</td>\n",
              "      <td>0.178535</td>\n",
              "    </tr>\n",
              "    <tr>\n",
              "      <th>148</th>\n",
              "      <td>0.211650</td>\n",
              "      <td>0.210909</td>\n",
              "      <td>0.229730</td>\n",
              "      <td>0.415843</td>\n",
              "      <td>0.316475</td>\n",
              "    </tr>\n",
              "    <tr>\n",
              "      <th>149</th>\n",
              "      <td>0.565049</td>\n",
              "      <td>0.556364</td>\n",
              "      <td>0.548986</td>\n",
              "      <td>0.621229</td>\n",
              "      <td>0.888560</td>\n",
              "    </tr>\n",
              "    <tr>\n",
              "      <th>150</th>\n",
              "      <td>0.444660</td>\n",
              "      <td>0.447273</td>\n",
              "      <td>0.501689</td>\n",
              "      <td>0.766725</td>\n",
              "      <td>0.584954</td>\n",
              "    </tr>\n",
              "    <tr>\n",
              "      <th>151</th>\n",
              "      <td>0.300971</td>\n",
              "      <td>0.301818</td>\n",
              "      <td>0.298986</td>\n",
              "      <td>0.273446</td>\n",
              "      <td>0.371547</td>\n",
              "    </tr>\n",
              "    <tr>\n",
              "      <th>152</th>\n",
              "      <td>0.466019</td>\n",
              "      <td>0.474545</td>\n",
              "      <td>0.521959</td>\n",
              "      <td>0.800663</td>\n",
              "      <td>0.596597</td>\n",
              "    </tr>\n",
              "    <tr>\n",
              "      <th>153</th>\n",
              "      <td>0.578641</td>\n",
              "      <td>0.574545</td>\n",
              "      <td>0.586149</td>\n",
              "      <td>0.616742</td>\n",
              "      <td>0.772074</td>\n",
              "    </tr>\n",
              "    <tr>\n",
              "      <th>154</th>\n",
              "      <td>0.351456</td>\n",
              "      <td>0.356364</td>\n",
              "      <td>0.371622</td>\n",
              "      <td>0.409180</td>\n",
              "      <td>0.512235</td>\n",
              "    </tr>\n",
              "    <tr>\n",
              "      <th>155</th>\n",
              "      <td>0.194175</td>\n",
              "      <td>0.189091</td>\n",
              "      <td>0.209459</td>\n",
              "      <td>0.223303</td>\n",
              "      <td>0.261728</td>\n",
              "    </tr>\n",
              "    <tr>\n",
              "      <th>156</th>\n",
              "      <td>0.792233</td>\n",
              "      <td>0.787273</td>\n",
              "      <td>0.782095</td>\n",
              "      <td>0.417782</td>\n",
              "      <td>0.722203</td>\n",
              "    </tr>\n",
              "    <tr>\n",
              "      <th>157</th>\n",
              "      <td>0.207767</td>\n",
              "      <td>0.210909</td>\n",
              "      <td>0.206081</td>\n",
              "      <td>0.194653</td>\n",
              "      <td>0.243065</td>\n",
              "    </tr>\n",
              "    <tr>\n",
              "      <th>158</th>\n",
              "      <td>0.073786</td>\n",
              "      <td>0.061818</td>\n",
              "      <td>0.072635</td>\n",
              "      <td>0.028180</td>\n",
              "      <td>0.016675</td>\n",
              "    </tr>\n",
              "  </tbody>\n",
              "</table>\n",
              "</div>"
            ],
            "text/plain": [
              "      Length1   Length2   Length3    Height     Width\n",
              "128  0.310680  0.312727  0.307432  0.280499  0.449848\n",
              "129  0.250485  0.247273  0.268581  0.236589  0.381540\n",
              "130  0.580583  0.592727  0.626689  0.981333  0.803408\n",
              "131  0.411650  0.410909  0.462838  0.733838  0.530982\n",
              "132  0.320388  0.320000  0.344595  0.414915  0.486186\n",
              "133  0.374757  0.387273  0.437500  0.689203  0.546882\n",
              "134  0.475728  0.483636  0.537162  0.849367  0.710758\n",
              "135  0.508738  0.509091  0.520270  0.582334  0.778924\n",
              "136  0.266019  0.265455  0.287162  0.500180  0.368742\n",
              "137  0.252427  0.256364  0.256757  0.293907  0.363160\n",
              "138  0.050485  0.040000  0.047297  0.000000  0.014208\n",
              "139  0.242718  0.247273  0.248311  0.220221  0.415454\n",
              "140  1.000000  1.000000  1.000000  0.527240  0.906687\n",
              "141  0.425243  0.429091  0.479730  0.795747  0.638870\n",
              "142  0.543689  0.538182  0.535473  0.322812  0.497421\n",
              "143  0.611650  0.610909  0.604730  0.642641  0.820478\n",
              "144  0.427184  0.429091  0.481419  0.707225  0.567377\n",
              "145  0.077670  0.069091  0.077703  0.021012  0.048771\n",
              "146  0.225243  0.225455  0.241554  0.257670  0.330979\n",
              "147  0.132039  0.129091  0.145270  0.281439  0.178535\n",
              "148  0.211650  0.210909  0.229730  0.415843  0.316475\n",
              "149  0.565049  0.556364  0.548986  0.621229  0.888560\n",
              "150  0.444660  0.447273  0.501689  0.766725  0.584954\n",
              "151  0.300971  0.301818  0.298986  0.273446  0.371547\n",
              "152  0.466019  0.474545  0.521959  0.800663  0.596597\n",
              "153  0.578641  0.574545  0.586149  0.616742  0.772074\n",
              "154  0.351456  0.356364  0.371622  0.409180  0.512235\n",
              "155  0.194175  0.189091  0.209459  0.223303  0.261728\n",
              "156  0.792233  0.787273  0.782095  0.417782  0.722203\n",
              "157  0.207767  0.210909  0.206081  0.194653  0.243065\n",
              "158  0.073786  0.061818  0.072635  0.028180  0.016675"
            ]
          },
          "metadata": {
            "tags": []
          },
          "execution_count": 24
        }
      ]
    },
    {
      "cell_type": "code",
      "metadata": {
        "id": "kHu0UGxs5bDa"
      },
      "source": [
        "from sklearn.decomposition import PCA\n",
        "pca_df = PCA(n_components=1)\n"
      ],
      "execution_count": 25,
      "outputs": []
    },
    {
      "cell_type": "code",
      "metadata": {
        "id": "gzB0BWPY6NNn"
      },
      "source": [
        "pca_train=pca_df.fit_transform(linear_train)"
      ],
      "execution_count": 26,
      "outputs": []
    },
    {
      "cell_type": "code",
      "metadata": {
        "colab": {
          "base_uri": "https://localhost:8080/"
        },
        "id": "QJK3QmEd6RM1",
        "outputId": "553a96f3-460f-48ab-fa8d-590602815e62"
      },
      "source": [
        "pca_train.shape"
      ],
      "execution_count": 27,
      "outputs": [
        {
          "output_type": "execute_result",
          "data": {
            "text/plain": [
              "(127, 1)"
            ]
          },
          "metadata": {
            "tags": []
          },
          "execution_count": 27
        }
      ]
    },
    {
      "cell_type": "code",
      "metadata": {
        "colab": {
          "base_uri": "https://localhost:8080/",
          "height": 399
        },
        "id": "8wmh_vpO6T-O",
        "outputId": "34091604-4984-494e-8c0f-f1f7d52bd262"
      },
      "source": [
        "pca_train = pd.DataFrame(data = pca_train\n",
        "             , columns = ['principal component 1'])\n",
        "pca_train"
      ],
      "execution_count": 28,
      "outputs": [
        {
          "output_type": "execute_result",
          "data": {
            "text/html": [
              "<div>\n",
              "<style scoped>\n",
              "    .dataframe tbody tr th:only-of-type {\n",
              "        vertical-align: middle;\n",
              "    }\n",
              "\n",
              "    .dataframe tbody tr th {\n",
              "        vertical-align: top;\n",
              "    }\n",
              "\n",
              "    .dataframe thead th {\n",
              "        text-align: right;\n",
              "    }\n",
              "</style>\n",
              "<table border=\"1\" class=\"dataframe\">\n",
              "  <thead>\n",
              "    <tr style=\"text-align: right;\">\n",
              "      <th></th>\n",
              "      <th>principal component 1</th>\n",
              "    </tr>\n",
              "  </thead>\n",
              "  <tbody>\n",
              "    <tr>\n",
              "      <th>0</th>\n",
              "      <td>0.013023</td>\n",
              "    </tr>\n",
              "    <tr>\n",
              "      <th>1</th>\n",
              "      <td>0.172720</td>\n",
              "    </tr>\n",
              "    <tr>\n",
              "      <th>2</th>\n",
              "      <td>0.373583</td>\n",
              "    </tr>\n",
              "    <tr>\n",
              "      <th>3</th>\n",
              "      <td>-0.788341</td>\n",
              "    </tr>\n",
              "    <tr>\n",
              "      <th>4</th>\n",
              "      <td>0.539975</td>\n",
              "    </tr>\n",
              "    <tr>\n",
              "      <th>...</th>\n",
              "      <td>...</td>\n",
              "    </tr>\n",
              "    <tr>\n",
              "      <th>122</th>\n",
              "      <td>-0.847414</td>\n",
              "    </tr>\n",
              "    <tr>\n",
              "      <th>123</th>\n",
              "      <td>-0.270367</td>\n",
              "    </tr>\n",
              "    <tr>\n",
              "      <th>124</th>\n",
              "      <td>-0.051863</td>\n",
              "    </tr>\n",
              "    <tr>\n",
              "      <th>125</th>\n",
              "      <td>-0.163526</td>\n",
              "    </tr>\n",
              "    <tr>\n",
              "      <th>126</th>\n",
              "      <td>0.420854</td>\n",
              "    </tr>\n",
              "  </tbody>\n",
              "</table>\n",
              "<p>127 rows × 1 columns</p>\n",
              "</div>"
            ],
            "text/plain": [
              "     principal component 1\n",
              "0                 0.013023\n",
              "1                 0.172720\n",
              "2                 0.373583\n",
              "3                -0.788341\n",
              "4                 0.539975\n",
              "..                     ...\n",
              "122              -0.847414\n",
              "123              -0.270367\n",
              "124              -0.051863\n",
              "125              -0.163526\n",
              "126               0.420854\n",
              "\n",
              "[127 rows x 1 columns]"
            ]
          },
          "metadata": {
            "tags": []
          },
          "execution_count": 28
        }
      ]
    },
    {
      "cell_type": "code",
      "metadata": {
        "id": "PYvDNy5K7VVQ"
      },
      "source": [
        "pca_train['Weight']=y_train"
      ],
      "execution_count": 29,
      "outputs": []
    },
    {
      "cell_type": "code",
      "metadata": {
        "colab": {
          "base_uri": "https://localhost:8080/",
          "height": 399
        },
        "id": "l-umIlYl7aV7",
        "outputId": "e23e22b4-8f9b-413c-91fb-38ec027d5dae"
      },
      "source": [
        "pca_train"
      ],
      "execution_count": 30,
      "outputs": [
        {
          "output_type": "execute_result",
          "data": {
            "text/html": [
              "<div>\n",
              "<style scoped>\n",
              "    .dataframe tbody tr th:only-of-type {\n",
              "        vertical-align: middle;\n",
              "    }\n",
              "\n",
              "    .dataframe tbody tr th {\n",
              "        vertical-align: top;\n",
              "    }\n",
              "\n",
              "    .dataframe thead th {\n",
              "        text-align: right;\n",
              "    }\n",
              "</style>\n",
              "<table border=\"1\" class=\"dataframe\">\n",
              "  <thead>\n",
              "    <tr style=\"text-align: right;\">\n",
              "      <th></th>\n",
              "      <th>principal component 1</th>\n",
              "      <th>Weight</th>\n",
              "    </tr>\n",
              "  </thead>\n",
              "  <tbody>\n",
              "    <tr>\n",
              "      <th>0</th>\n",
              "      <td>0.013023</td>\n",
              "      <td>0.181818</td>\n",
              "    </tr>\n",
              "    <tr>\n",
              "      <th>1</th>\n",
              "      <td>0.172720</td>\n",
              "      <td>0.236364</td>\n",
              "    </tr>\n",
              "    <tr>\n",
              "      <th>2</th>\n",
              "      <td>0.373583</td>\n",
              "      <td>0.369697</td>\n",
              "    </tr>\n",
              "    <tr>\n",
              "      <th>3</th>\n",
              "      <td>-0.788341</td>\n",
              "      <td>0.005939</td>\n",
              "    </tr>\n",
              "    <tr>\n",
              "      <th>4</th>\n",
              "      <td>0.539975</td>\n",
              "      <td>0.515152</td>\n",
              "    </tr>\n",
              "    <tr>\n",
              "      <th>...</th>\n",
              "      <td>...</td>\n",
              "      <td>...</td>\n",
              "    </tr>\n",
              "    <tr>\n",
              "      <th>122</th>\n",
              "      <td>-0.847414</td>\n",
              "      <td>0.004061</td>\n",
              "    </tr>\n",
              "    <tr>\n",
              "      <th>123</th>\n",
              "      <td>-0.270367</td>\n",
              "      <td>0.078788</td>\n",
              "    </tr>\n",
              "    <tr>\n",
              "      <th>124</th>\n",
              "      <td>-0.051863</td>\n",
              "      <td>0.151515</td>\n",
              "    </tr>\n",
              "    <tr>\n",
              "      <th>125</th>\n",
              "      <td>-0.163526</td>\n",
              "      <td>0.102424</td>\n",
              "    </tr>\n",
              "    <tr>\n",
              "      <th>126</th>\n",
              "      <td>0.420854</td>\n",
              "      <td>0.393939</td>\n",
              "    </tr>\n",
              "  </tbody>\n",
              "</table>\n",
              "<p>127 rows × 2 columns</p>\n",
              "</div>"
            ],
            "text/plain": [
              "     principal component 1    Weight\n",
              "0                 0.013023  0.181818\n",
              "1                 0.172720  0.236364\n",
              "2                 0.373583  0.369697\n",
              "3                -0.788341  0.005939\n",
              "4                 0.539975  0.515152\n",
              "..                     ...       ...\n",
              "122              -0.847414  0.004061\n",
              "123              -0.270367  0.078788\n",
              "124              -0.051863  0.151515\n",
              "125              -0.163526  0.102424\n",
              "126               0.420854  0.393939\n",
              "\n",
              "[127 rows x 2 columns]"
            ]
          },
          "metadata": {
            "tags": []
          },
          "execution_count": 30
        }
      ]
    },
    {
      "cell_type": "code",
      "metadata": {
        "colab": {
          "base_uri": "https://localhost:8080/",
          "height": 399
        },
        "id": "UoUHa_jh7bnY",
        "outputId": "2ff2c57a-60a8-4e18-fa13-282224379877"
      },
      "source": [
        "pca_train.dropna()"
      ],
      "execution_count": 31,
      "outputs": [
        {
          "output_type": "execute_result",
          "data": {
            "text/html": [
              "<div>\n",
              "<style scoped>\n",
              "    .dataframe tbody tr th:only-of-type {\n",
              "        vertical-align: middle;\n",
              "    }\n",
              "\n",
              "    .dataframe tbody tr th {\n",
              "        vertical-align: top;\n",
              "    }\n",
              "\n",
              "    .dataframe thead th {\n",
              "        text-align: right;\n",
              "    }\n",
              "</style>\n",
              "<table border=\"1\" class=\"dataframe\">\n",
              "  <thead>\n",
              "    <tr style=\"text-align: right;\">\n",
              "      <th></th>\n",
              "      <th>principal component 1</th>\n",
              "      <th>Weight</th>\n",
              "    </tr>\n",
              "  </thead>\n",
              "  <tbody>\n",
              "    <tr>\n",
              "      <th>0</th>\n",
              "      <td>0.013023</td>\n",
              "      <td>0.181818</td>\n",
              "    </tr>\n",
              "    <tr>\n",
              "      <th>1</th>\n",
              "      <td>0.172720</td>\n",
              "      <td>0.236364</td>\n",
              "    </tr>\n",
              "    <tr>\n",
              "      <th>2</th>\n",
              "      <td>0.373583</td>\n",
              "      <td>0.369697</td>\n",
              "    </tr>\n",
              "    <tr>\n",
              "      <th>3</th>\n",
              "      <td>-0.788341</td>\n",
              "      <td>0.005939</td>\n",
              "    </tr>\n",
              "    <tr>\n",
              "      <th>4</th>\n",
              "      <td>0.539975</td>\n",
              "      <td>0.515152</td>\n",
              "    </tr>\n",
              "    <tr>\n",
              "      <th>...</th>\n",
              "      <td>...</td>\n",
              "      <td>...</td>\n",
              "    </tr>\n",
              "    <tr>\n",
              "      <th>122</th>\n",
              "      <td>-0.847414</td>\n",
              "      <td>0.004061</td>\n",
              "    </tr>\n",
              "    <tr>\n",
              "      <th>123</th>\n",
              "      <td>-0.270367</td>\n",
              "      <td>0.078788</td>\n",
              "    </tr>\n",
              "    <tr>\n",
              "      <th>124</th>\n",
              "      <td>-0.051863</td>\n",
              "      <td>0.151515</td>\n",
              "    </tr>\n",
              "    <tr>\n",
              "      <th>125</th>\n",
              "      <td>-0.163526</td>\n",
              "      <td>0.102424</td>\n",
              "    </tr>\n",
              "    <tr>\n",
              "      <th>126</th>\n",
              "      <td>0.420854</td>\n",
              "      <td>0.393939</td>\n",
              "    </tr>\n",
              "  </tbody>\n",
              "</table>\n",
              "<p>127 rows × 2 columns</p>\n",
              "</div>"
            ],
            "text/plain": [
              "     principal component 1    Weight\n",
              "0                 0.013023  0.181818\n",
              "1                 0.172720  0.236364\n",
              "2                 0.373583  0.369697\n",
              "3                -0.788341  0.005939\n",
              "4                 0.539975  0.515152\n",
              "..                     ...       ...\n",
              "122              -0.847414  0.004061\n",
              "123              -0.270367  0.078788\n",
              "124              -0.051863  0.151515\n",
              "125              -0.163526  0.102424\n",
              "126               0.420854  0.393939\n",
              "\n",
              "[127 rows x 2 columns]"
            ]
          },
          "metadata": {
            "tags": []
          },
          "execution_count": 31
        }
      ]
    },
    {
      "cell_type": "code",
      "metadata": {
        "colab": {
          "base_uri": "https://localhost:8080/",
          "height": 399
        },
        "id": "g_LE2rUV9y6N",
        "outputId": "cde619bd-92c1-4223-841d-2f69e5471d5e"
      },
      "source": [
        "pca_train=pca_train.dropna()\n",
        "pca_train"
      ],
      "execution_count": 32,
      "outputs": [
        {
          "output_type": "execute_result",
          "data": {
            "text/html": [
              "<div>\n",
              "<style scoped>\n",
              "    .dataframe tbody tr th:only-of-type {\n",
              "        vertical-align: middle;\n",
              "    }\n",
              "\n",
              "    .dataframe tbody tr th {\n",
              "        vertical-align: top;\n",
              "    }\n",
              "\n",
              "    .dataframe thead th {\n",
              "        text-align: right;\n",
              "    }\n",
              "</style>\n",
              "<table border=\"1\" class=\"dataframe\">\n",
              "  <thead>\n",
              "    <tr style=\"text-align: right;\">\n",
              "      <th></th>\n",
              "      <th>principal component 1</th>\n",
              "      <th>Weight</th>\n",
              "    </tr>\n",
              "  </thead>\n",
              "  <tbody>\n",
              "    <tr>\n",
              "      <th>0</th>\n",
              "      <td>0.013023</td>\n",
              "      <td>0.181818</td>\n",
              "    </tr>\n",
              "    <tr>\n",
              "      <th>1</th>\n",
              "      <td>0.172720</td>\n",
              "      <td>0.236364</td>\n",
              "    </tr>\n",
              "    <tr>\n",
              "      <th>2</th>\n",
              "      <td>0.373583</td>\n",
              "      <td>0.369697</td>\n",
              "    </tr>\n",
              "    <tr>\n",
              "      <th>3</th>\n",
              "      <td>-0.788341</td>\n",
              "      <td>0.005939</td>\n",
              "    </tr>\n",
              "    <tr>\n",
              "      <th>4</th>\n",
              "      <td>0.539975</td>\n",
              "      <td>0.515152</td>\n",
              "    </tr>\n",
              "    <tr>\n",
              "      <th>...</th>\n",
              "      <td>...</td>\n",
              "      <td>...</td>\n",
              "    </tr>\n",
              "    <tr>\n",
              "      <th>122</th>\n",
              "      <td>-0.847414</td>\n",
              "      <td>0.004061</td>\n",
              "    </tr>\n",
              "    <tr>\n",
              "      <th>123</th>\n",
              "      <td>-0.270367</td>\n",
              "      <td>0.078788</td>\n",
              "    </tr>\n",
              "    <tr>\n",
              "      <th>124</th>\n",
              "      <td>-0.051863</td>\n",
              "      <td>0.151515</td>\n",
              "    </tr>\n",
              "    <tr>\n",
              "      <th>125</th>\n",
              "      <td>-0.163526</td>\n",
              "      <td>0.102424</td>\n",
              "    </tr>\n",
              "    <tr>\n",
              "      <th>126</th>\n",
              "      <td>0.420854</td>\n",
              "      <td>0.393939</td>\n",
              "    </tr>\n",
              "  </tbody>\n",
              "</table>\n",
              "<p>127 rows × 2 columns</p>\n",
              "</div>"
            ],
            "text/plain": [
              "     principal component 1    Weight\n",
              "0                 0.013023  0.181818\n",
              "1                 0.172720  0.236364\n",
              "2                 0.373583  0.369697\n",
              "3                -0.788341  0.005939\n",
              "4                 0.539975  0.515152\n",
              "..                     ...       ...\n",
              "122              -0.847414  0.004061\n",
              "123              -0.270367  0.078788\n",
              "124              -0.051863  0.151515\n",
              "125              -0.163526  0.102424\n",
              "126               0.420854  0.393939\n",
              "\n",
              "[127 rows x 2 columns]"
            ]
          },
          "metadata": {
            "tags": []
          },
          "execution_count": 32
        }
      ]
    },
    {
      "cell_type": "code",
      "metadata": {
        "id": "1OLeXZNM7e_y"
      },
      "source": [
        "X=pca_train['principal component 1']\n",
        "Y=pca_train['Weight']"
      ],
      "execution_count": 33,
      "outputs": []
    },
    {
      "cell_type": "code",
      "metadata": {
        "id": "IJrobMqC7mZ2"
      },
      "source": [
        "from sklearn import datasets, linear_model, metrics"
      ],
      "execution_count": 34,
      "outputs": []
    },
    {
      "cell_type": "code",
      "metadata": {
        "id": "iZZkTXp57xvP"
      },
      "source": [
        "reg = linear_model.LinearRegression()"
      ],
      "execution_count": 35,
      "outputs": []
    },
    {
      "cell_type": "code",
      "metadata": {
        "colab": {
          "base_uri": "https://localhost:8080/"
        },
        "id": "0aOP294-70om",
        "outputId": "ff26b4f5-7157-4d1c-9eea-cf2564c276e4"
      },
      "source": [
        "reg.fit(X.values.reshape(-1,1),Y)"
      ],
      "execution_count": 36,
      "outputs": [
        {
          "output_type": "execute_result",
          "data": {
            "text/plain": [
              "LinearRegression(copy_X=True, fit_intercept=True, n_jobs=None, normalize=False)"
            ]
          },
          "metadata": {
            "tags": []
          },
          "execution_count": 36
        }
      ]
    },
    {
      "cell_type": "code",
      "metadata": {
        "colab": {
          "base_uri": "https://localhost:8080/",
          "height": 284
        },
        "id": "ky7qQEei72FW",
        "outputId": "fd77c2b9-c152-466f-9394-d869f7e19dcd"
      },
      "source": [
        "plt.scatter(X,Y)"
      ],
      "execution_count": 37,
      "outputs": [
        {
          "output_type": "execute_result",
          "data": {
            "text/plain": [
              "<matplotlib.collections.PathCollection at 0x7f7ee78a4890>"
            ]
          },
          "metadata": {
            "tags": []
          },
          "execution_count": 37
        },
        {
          "output_type": "display_data",
          "data": {
            "image/png": "[encoded data removed]",
            "text/plain": [
              "<Figure size 432x288 with 1 Axes>"
            ]
          },
          "metadata": {
            "tags": [],
            "needs_background": "light"
          }
        }
      ]
    },
    {
      "cell_type": "code",
      "metadata": {
        "colab": {
          "base_uri": "https://localhost:8080/",
          "height": 295
        },
        "id": "su3VK_qo-AZk",
        "outputId": "4e76751f-4951-4d74-cad7-b9584db5f8c8"
      },
      "source": [
        "plt.scatter(X, Y, color = \"red\")\n",
        "plt.plot(X, reg.predict(X.values.reshape(-1,1)), color = \"green\")\n",
        "plt.title(\"Training\")\n",
        "plt.xlabel(\"PCA features\")\n",
        "plt.ylabel(\"Weight\")\n",
        "plt.show()"
      ],
      "execution_count": 38,
      "outputs": [
        {
          "output_type": "display_data",
          "data": {
            "image/png": "[encoded data removed]",
            "text/plain": [
              "<Figure size 432x288 with 1 Axes>"
            ]
          },
          "metadata": {
            "tags": [],
            "needs_background": "light"
          }
        }
      ]
    },
    {
      "cell_type": "code",
      "metadata": {
        "colab": {
          "base_uri": "https://localhost:8080/"
        },
        "id": "kL4tju6e-ioO",
        "outputId": "79cad06b-2a8c-4f32-e575-7c95e96c17b5"
      },
      "source": [
        "print('intercept:',reg.intercept_)\n",
        "\n",
        "print('slope:', reg.coef_)"
      ],
      "execution_count": 39,
      "outputs": [
        {
          "output_type": "stream",
          "text": [
            "intercept: 0.23337532808398945\n",
            "slope: [0.44762158]\n"
          ],
          "name": "stdout"
        }
      ]
    },
    {
      "cell_type": "code",
      "metadata": {
        "colab": {
          "base_uri": "https://localhost:8080/"
        },
        "id": "MlDTnCui-vhM",
        "outputId": "db32d4aa-2f6c-45bf-91be-e5d114eab44c"
      },
      "source": [
        "r_sq = reg.score(X.values.reshape(-1,1),Y)\n",
        "print('coefficient of determination:', r_sq)"
      ],
      "execution_count": 40,
      "outputs": [
        {
          "output_type": "stream",
          "text": [
            "coefficient of determination: 0.8697258837458959\n"
          ],
          "name": "stdout"
        }
      ]
    },
    {
      "cell_type": "code",
      "metadata": {
        "id": "7nu38R5u_UMi"
      },
      "source": [
        "y_test=y[128:159]\n"
      ],
      "execution_count": 41,
      "outputs": []
    },
    {
      "cell_type": "code",
      "metadata": {
        "colab": {
          "base_uri": "https://localhost:8080/",
          "height": 956
        },
        "id": "Wgah7UHRL7jF",
        "outputId": "ef04ed95-3d41-49e9-c38d-f83490127416"
      },
      "source": [
        "y_test"
      ],
      "execution_count": 42,
      "outputs": [
        {
          "output_type": "execute_result",
          "data": {
            "text/html": [
              "<div>\n",
              "<style scoped>\n",
              "    .dataframe tbody tr th:only-of-type {\n",
              "        vertical-align: middle;\n",
              "    }\n",
              "\n",
              "    .dataframe tbody tr th {\n",
              "        vertical-align: top;\n",
              "    }\n",
              "\n",
              "    .dataframe thead th {\n",
              "        text-align: right;\n",
              "    }\n",
              "</style>\n",
              "<table border=\"1\" class=\"dataframe\">\n",
              "  <thead>\n",
              "    <tr style=\"text-align: right;\">\n",
              "      <th></th>\n",
              "      <th>Weight</th>\n",
              "    </tr>\n",
              "  </thead>\n",
              "  <tbody>\n",
              "    <tr>\n",
              "      <th>128</th>\n",
              "      <td>0.119394</td>\n",
              "    </tr>\n",
              "    <tr>\n",
              "      <th>129</th>\n",
              "      <td>0.090909</td>\n",
              "    </tr>\n",
              "    <tr>\n",
              "      <th>130</th>\n",
              "      <td>0.590909</td>\n",
              "    </tr>\n",
              "    <tr>\n",
              "      <th>131</th>\n",
              "      <td>0.303030</td>\n",
              "    </tr>\n",
              "    <tr>\n",
              "      <th>132</th>\n",
              "      <td>0.175758</td>\n",
              "    </tr>\n",
              "    <tr>\n",
              "      <th>133</th>\n",
              "      <td>0.272727</td>\n",
              "    </tr>\n",
              "    <tr>\n",
              "      <th>134</th>\n",
              "      <td>0.436364</td>\n",
              "    </tr>\n",
              "    <tr>\n",
              "      <th>135</th>\n",
              "      <td>0.484848</td>\n",
              "    </tr>\n",
              "    <tr>\n",
              "      <th>136</th>\n",
              "      <td>0.121212</td>\n",
              "    </tr>\n",
              "    <tr>\n",
              "      <th>137</th>\n",
              "      <td>0.090909</td>\n",
              "    </tr>\n",
              "    <tr>\n",
              "      <th>138</th>\n",
              "      <td>0.004242</td>\n",
              "    </tr>\n",
              "    <tr>\n",
              "      <th>139</th>\n",
              "      <td>0.066667</td>\n",
              "    </tr>\n",
              "    <tr>\n",
              "      <th>140</th>\n",
              "      <td>1.000000</td>\n",
              "    </tr>\n",
              "    <tr>\n",
              "      <th>141</th>\n",
              "      <td>0.363636</td>\n",
              "    </tr>\n",
              "    <tr>\n",
              "      <th>142</th>\n",
              "      <td>0.260606</td>\n",
              "    </tr>\n",
              "    <tr>\n",
              "      <th>143</th>\n",
              "      <td>0.666667</td>\n",
              "    </tr>\n",
              "    <tr>\n",
              "      <th>144</th>\n",
              "      <td>0.206061</td>\n",
              "    </tr>\n",
              "    <tr>\n",
              "      <th>145</th>\n",
              "      <td>0.007394</td>\n",
              "    </tr>\n",
              "    <tr>\n",
              "      <th>146</th>\n",
              "      <td>0.066667</td>\n",
              "    </tr>\n",
              "    <tr>\n",
              "      <th>147</th>\n",
              "      <td>0.036364</td>\n",
              "    </tr>\n",
              "    <tr>\n",
              "      <th>148</th>\n",
              "      <td>0.090909</td>\n",
              "    </tr>\n",
              "    <tr>\n",
              "      <th>149</th>\n",
              "      <td>0.496970</td>\n",
              "    </tr>\n",
              "    <tr>\n",
              "      <th>150</th>\n",
              "      <td>0.424242</td>\n",
              "    </tr>\n",
              "    <tr>\n",
              "      <th>151</th>\n",
              "      <td>0.109091</td>\n",
              "    </tr>\n",
              "    <tr>\n",
              "      <th>152</th>\n",
              "      <td>0.375758</td>\n",
              "    </tr>\n",
              "    <tr>\n",
              "      <th>153</th>\n",
              "      <td>0.606061</td>\n",
              "    </tr>\n",
              "    <tr>\n",
              "      <th>154</th>\n",
              "      <td>0.185455</td>\n",
              "    </tr>\n",
              "    <tr>\n",
              "      <th>155</th>\n",
              "      <td>0.047273</td>\n",
              "    </tr>\n",
              "    <tr>\n",
              "      <th>156</th>\n",
              "      <td>0.575758</td>\n",
              "    </tr>\n",
              "    <tr>\n",
              "      <th>157</th>\n",
              "      <td>0.051515</td>\n",
              "    </tr>\n",
              "    <tr>\n",
              "      <th>158</th>\n",
              "      <td>0.006000</td>\n",
              "    </tr>\n",
              "  </tbody>\n",
              "</table>\n",
              "</div>"
            ],
            "text/plain": [
              "       Weight\n",
              "128  0.119394\n",
              "129  0.090909\n",
              "130  0.590909\n",
              "131  0.303030\n",
              "132  0.175758\n",
              "133  0.272727\n",
              "134  0.436364\n",
              "135  0.484848\n",
              "136  0.121212\n",
              "137  0.090909\n",
              "138  0.004242\n",
              "139  0.066667\n",
              "140  1.000000\n",
              "141  0.363636\n",
              "142  0.260606\n",
              "143  0.666667\n",
              "144  0.206061\n",
              "145  0.007394\n",
              "146  0.066667\n",
              "147  0.036364\n",
              "148  0.090909\n",
              "149  0.496970\n",
              "150  0.424242\n",
              "151  0.109091\n",
              "152  0.375758\n",
              "153  0.606061\n",
              "154  0.185455\n",
              "155  0.047273\n",
              "156  0.575758\n",
              "157  0.051515\n",
              "158  0.006000"
            ]
          },
          "metadata": {
            "tags": []
          },
          "execution_count": 42
        }
      ]
    },
    {
      "cell_type": "code",
      "metadata": {
        "id": "fz2fhqz__nZW"
      },
      "source": [
        "from sklearn.decomposition import PCA\n",
        "pca_df = PCA(n_components=1)"
      ],
      "execution_count": 43,
      "outputs": []
    },
    {
      "cell_type": "code",
      "metadata": {
        "id": "HVa50TIU_bE8"
      },
      "source": [
        "pca_test=pca_df.fit_transform(linear_test)"
      ],
      "execution_count": 44,
      "outputs": []
    },
    {
      "cell_type": "code",
      "metadata": {
        "colab": {
          "base_uri": "https://localhost:8080/"
        },
        "id": "VZ_UL9VC_cWO",
        "outputId": "6c965695-5343-4a51-ed07-80c96aaa2a4b"
      },
      "source": [
        "pca_test"
      ],
      "execution_count": 45,
      "outputs": [
        {
          "output_type": "execute_result",
          "data": {
            "text/plain": [
              "array([[-0.19040098],\n",
              "       [-0.31442451],\n",
              "       [ 0.67313526],\n",
              "       [ 0.20577539],\n",
              "       [-0.08846895],\n",
              "       [ 0.15708033],\n",
              "       [ 0.43795381],\n",
              "       [ 0.36948937],\n",
              "       [-0.18004028],\n",
              "       [-0.29832779],\n",
              "       [-0.87328967],\n",
              "       [-0.31687527],\n",
              "       [ 1.03298776],\n",
              "       [ 0.30842611],\n",
              "       [ 0.1456048 ],\n",
              "       [ 0.54076654],\n",
              "       [ 0.23439904],\n",
              "       [-0.80949756],\n",
              "       [-0.36193287],\n",
              "       [-0.54969886],\n",
              "       [-0.31517754],\n",
              "       [ 0.49817506],\n",
              "       [ 0.29384306],\n",
              "       [-0.24518405],\n",
              "       [ 0.34433416],\n",
              "       [ 0.46743936],\n",
              "       [-0.03769642],\n",
              "       [-0.45456319],\n",
              "       [ 0.61869406],\n",
              "       [-0.46324257],\n",
              "       [-0.82928358]])"
            ]
          },
          "metadata": {
            "tags": []
          },
          "execution_count": 45
        }
      ]
    },
    {
      "cell_type": "code",
      "metadata": {
        "id": "L0by54L4_yhv"
      },
      "source": [
        "res=reg.predict(pca_test.reshape(-1,1))\n"
      ],
      "execution_count": 46,
      "outputs": []
    },
    {
      "cell_type": "code",
      "metadata": {
        "id": "JMDm9vfb_25Q"
      },
      "source": [
        "res=abs(res)"
      ],
      "execution_count": 47,
      "outputs": []
    },
    {
      "cell_type": "code",
      "metadata": {
        "colab": {
          "base_uri": "https://localhost:8080/"
        },
        "id": "L2CYNwxG_3zP",
        "outputId": "252f79fd-f864-4239-c887-7156fbe2595a"
      },
      "source": [
        "res"
      ],
      "execution_count": 48,
      "outputs": [
        {
          "output_type": "execute_result",
          "data": {
            "text/plain": [
              "array([0.14814774, 0.09263213, 0.53468519, 0.32548483, 0.19377472,\n",
              "       0.30368787, 0.4294129 , 0.39876674, 0.15278541, 0.09983737,\n",
              "       0.15752797, 0.09153512, 0.69576294, 0.37143351, 0.29855118,\n",
              "       0.4754341 , 0.3382974 , 0.12897324, 0.07136636, 0.01268174,\n",
              "       0.09229506, 0.45636924, 0.36490582, 0.12362566, 0.38750673,\n",
              "       0.44261127, 0.2165016 , 0.02990303, 0.51031614, 0.02601796,\n",
              "       0.13782989])"
            ]
          },
          "metadata": {
            "tags": []
          },
          "execution_count": 48
        }
      ]
    },
    {
      "cell_type": "code",
      "metadata": {
        "id": "Ywh8YMtzJesE"
      },
      "source": [
        "res=scaler.inverse_transform(res.reshape(-1,1))"
      ],
      "execution_count": 49,
      "outputs": []
    },
    {
      "cell_type": "code",
      "metadata": {
        "colab": {
          "base_uri": "https://localhost:8080/"
        },
        "id": "zyFQSysnMF4p",
        "outputId": "1e16c119-5196-4df1-c446-d9af807eb333"
      },
      "source": [
        "res"
      ],
      "execution_count": 50,
      "outputs": [
        {
          "output_type": "execute_result",
          "data": {
            "text/plain": [
              "array([[ 244.44377028],\n",
              "       [ 152.84301799],\n",
              "       [ 882.23056884],\n",
              "       [ 537.0499716 ],\n",
              "       [ 319.72828026],\n",
              "       [ 501.08498807],\n",
              "       [ 708.5312862 ],\n",
              "       [ 657.9651276 ],\n",
              "       [ 252.0959308 ],\n",
              "       [ 164.73166662],\n",
              "       [ 259.92115441],\n",
              "       [ 151.03295062],\n",
              "       [1148.00884613],\n",
              "       [ 612.86529199],\n",
              "       [ 492.6094465 ],\n",
              "       [ 784.46626536],\n",
              "       [ 558.19070499],\n",
              "       [ 212.80585387],\n",
              "       [ 117.75450167],\n",
              "       [  20.9248745 ],\n",
              "       [ 152.28685092],\n",
              "       [ 753.00923807],\n",
              "       [ 602.0946024 ],\n",
              "       [ 203.98233384],\n",
              "       [ 639.38609759],\n",
              "       [ 730.308597  ],\n",
              "       [ 357.22763709],\n",
              "       [  49.34000757],\n",
              "       [ 842.02163025],\n",
              "       [  42.92963078],\n",
              "       [ 227.41932675]])"
            ]
          },
          "metadata": {
            "tags": []
          },
          "execution_count": 50
        }
      ]
    },
    {
      "cell_type": "code",
      "metadata": {
        "colab": {
          "base_uri": "https://localhost:8080/"
        },
        "id": "a-1hRQk_BCdA",
        "outputId": "3149a46c-2516-408c-ed8c-50e33220b4c1"
      },
      "source": [
        "linear_test['Predicted']=res\n",
        "\n"
      ],
      "execution_count": 51,
      "outputs": [
        {
          "output_type": "stream",
          "text": [
            "/usr/local/lib/python3.7/dist-packages/ipykernel_launcher.py:1: SettingWithCopyWarning: \n",
            "A value is trying to be set on a copy of a slice from a DataFrame.\n",
            "Try using .loc[row_indexer,col_indexer] = value instead\n",
            "\n",
            "See the caveats in the documentation: https://pandas.pydata.org/pandas-docs/stable/user_guide/indexing.html#returning-a-view-versus-a-copy\n",
            "  \"\"\"Entry point for launching an IPython kernel.\n"
          ],
          "name": "stderr"
        }
      ]
    },
    {
      "cell_type": "code",
      "metadata": {
        "colab": {
          "base_uri": "https://localhost:8080/",
          "height": 956
        },
        "id": "HEu9xgDwBOXd",
        "outputId": "997dc026-3dfd-4ab1-d03a-8dc7d37fc755"
      },
      "source": [
        "linear_test"
      ],
      "execution_count": 52,
      "outputs": [
        {
          "output_type": "execute_result",
          "data": {
            "text/html": [
              "<div>\n",
              "<style scoped>\n",
              "    .dataframe tbody tr th:only-of-type {\n",
              "        vertical-align: middle;\n",
              "    }\n",
              "\n",
              "    .dataframe tbody tr th {\n",
              "        vertical-align: top;\n",
              "    }\n",
              "\n",
              "    .dataframe thead th {\n",
              "        text-align: right;\n",
              "    }\n",
              "</style>\n",
              "<table border=\"1\" class=\"dataframe\">\n",
              "  <thead>\n",
              "    <tr style=\"text-align: right;\">\n",
              "      <th></th>\n",
              "      <th>Length1</th>\n",
              "      <th>Length2</th>\n",
              "      <th>Length3</th>\n",
              "      <th>Height</th>\n",
              "      <th>Width</th>\n",
              "      <th>Predicted</th>\n",
              "    </tr>\n",
              "  </thead>\n",
              "  <tbody>\n",
              "    <tr>\n",
              "      <th>128</th>\n",
              "      <td>0.310680</td>\n",
              "      <td>0.312727</td>\n",
              "      <td>0.307432</td>\n",
              "      <td>0.280499</td>\n",
              "      <td>0.449848</td>\n",
              "      <td>244.443770</td>\n",
              "    </tr>\n",
              "    <tr>\n",
              "      <th>129</th>\n",
              "      <td>0.250485</td>\n",
              "      <td>0.247273</td>\n",
              "      <td>0.268581</td>\n",
              "      <td>0.236589</td>\n",
              "      <td>0.381540</td>\n",
              "      <td>152.843018</td>\n",
              "    </tr>\n",
              "    <tr>\n",
              "      <th>130</th>\n",
              "      <td>0.580583</td>\n",
              "      <td>0.592727</td>\n",
              "      <td>0.626689</td>\n",
              "      <td>0.981333</td>\n",
              "      <td>0.803408</td>\n",
              "      <td>882.230569</td>\n",
              "    </tr>\n",
              "    <tr>\n",
              "      <th>131</th>\n",
              "      <td>0.411650</td>\n",
              "      <td>0.410909</td>\n",
              "      <td>0.462838</td>\n",
              "      <td>0.733838</td>\n",
              "      <td>0.530982</td>\n",
              "      <td>537.049972</td>\n",
              "    </tr>\n",
              "    <tr>\n",
              "      <th>132</th>\n",
              "      <td>0.320388</td>\n",
              "      <td>0.320000</td>\n",
              "      <td>0.344595</td>\n",
              "      <td>0.414915</td>\n",
              "      <td>0.486186</td>\n",
              "      <td>319.728280</td>\n",
              "    </tr>\n",
              "    <tr>\n",
              "      <th>133</th>\n",
              "      <td>0.374757</td>\n",
              "      <td>0.387273</td>\n",
              "      <td>0.437500</td>\n",
              "      <td>0.689203</td>\n",
              "      <td>0.546882</td>\n",
              "      <td>501.084988</td>\n",
              "    </tr>\n",
              "    <tr>\n",
              "      <th>134</th>\n",
              "      <td>0.475728</td>\n",
              "      <td>0.483636</td>\n",
              "      <td>0.537162</td>\n",
              "      <td>0.849367</td>\n",
              "      <td>0.710758</td>\n",
              "      <td>708.531286</td>\n",
              "    </tr>\n",
              "    <tr>\n",
              "      <th>135</th>\n",
              "      <td>0.508738</td>\n",
              "      <td>0.509091</td>\n",
              "      <td>0.520270</td>\n",
              "      <td>0.582334</td>\n",
              "      <td>0.778924</td>\n",
              "      <td>657.965128</td>\n",
              "    </tr>\n",
              "    <tr>\n",
              "      <th>136</th>\n",
              "      <td>0.266019</td>\n",
              "      <td>0.265455</td>\n",
              "      <td>0.287162</td>\n",
              "      <td>0.500180</td>\n",
              "      <td>0.368742</td>\n",
              "      <td>252.095931</td>\n",
              "    </tr>\n",
              "    <tr>\n",
              "      <th>137</th>\n",
              "      <td>0.252427</td>\n",
              "      <td>0.256364</td>\n",
              "      <td>0.256757</td>\n",
              "      <td>0.293907</td>\n",
              "      <td>0.363160</td>\n",
              "      <td>164.731667</td>\n",
              "    </tr>\n",
              "    <tr>\n",
              "      <th>138</th>\n",
              "      <td>0.050485</td>\n",
              "      <td>0.040000</td>\n",
              "      <td>0.047297</td>\n",
              "      <td>0.000000</td>\n",
              "      <td>0.014208</td>\n",
              "      <td>259.921154</td>\n",
              "    </tr>\n",
              "    <tr>\n",
              "      <th>139</th>\n",
              "      <td>0.242718</td>\n",
              "      <td>0.247273</td>\n",
              "      <td>0.248311</td>\n",
              "      <td>0.220221</td>\n",
              "      <td>0.415454</td>\n",
              "      <td>151.032951</td>\n",
              "    </tr>\n",
              "    <tr>\n",
              "      <th>140</th>\n",
              "      <td>1.000000</td>\n",
              "      <td>1.000000</td>\n",
              "      <td>1.000000</td>\n",
              "      <td>0.527240</td>\n",
              "      <td>0.906687</td>\n",
              "      <td>1148.008846</td>\n",
              "    </tr>\n",
              "    <tr>\n",
              "      <th>141</th>\n",
              "      <td>0.425243</td>\n",
              "      <td>0.429091</td>\n",
              "      <td>0.479730</td>\n",
              "      <td>0.795747</td>\n",
              "      <td>0.638870</td>\n",
              "      <td>612.865292</td>\n",
              "    </tr>\n",
              "    <tr>\n",
              "      <th>142</th>\n",
              "      <td>0.543689</td>\n",
              "      <td>0.538182</td>\n",
              "      <td>0.535473</td>\n",
              "      <td>0.322812</td>\n",
              "      <td>0.497421</td>\n",
              "      <td>492.609447</td>\n",
              "    </tr>\n",
              "    <tr>\n",
              "      <th>143</th>\n",
              "      <td>0.611650</td>\n",
              "      <td>0.610909</td>\n",
              "      <td>0.604730</td>\n",
              "      <td>0.642641</td>\n",
              "      <td>0.820478</td>\n",
              "      <td>784.466265</td>\n",
              "    </tr>\n",
              "    <tr>\n",
              "      <th>144</th>\n",
              "      <td>0.427184</td>\n",
              "      <td>0.429091</td>\n",
              "      <td>0.481419</td>\n",
              "      <td>0.707225</td>\n",
              "      <td>0.567377</td>\n",
              "      <td>558.190705</td>\n",
              "    </tr>\n",
              "    <tr>\n",
              "      <th>145</th>\n",
              "      <td>0.077670</td>\n",
              "      <td>0.069091</td>\n",
              "      <td>0.077703</td>\n",
              "      <td>0.021012</td>\n",
              "      <td>0.048771</td>\n",
              "      <td>212.805854</td>\n",
              "    </tr>\n",
              "    <tr>\n",
              "      <th>146</th>\n",
              "      <td>0.225243</td>\n",
              "      <td>0.225455</td>\n",
              "      <td>0.241554</td>\n",
              "      <td>0.257670</td>\n",
              "      <td>0.330979</td>\n",
              "      <td>117.754502</td>\n",
              "    </tr>\n",
              "    <tr>\n",
              "      <th>147</th>\n",
              "      <td>0.132039</td>\n",
              "      <td>0.129091</td>\n",
              "      <td>0.145270</td>\n",
              "      <td>0.281439</td>\n",
              "      <td>0.178535</td>\n",
              "      <td>20.924875</td>\n",
              "    </tr>\n",
              "    <tr>\n",
              "      <th>148</th>\n",
              "      <td>0.211650</td>\n",
              "      <td>0.210909</td>\n",
              "      <td>0.229730</td>\n",
              "      <td>0.415843</td>\n",
              "      <td>0.316475</td>\n",
              "      <td>152.286851</td>\n",
              "    </tr>\n",
              "    <tr>\n",
              "      <th>149</th>\n",
              "      <td>0.565049</td>\n",
              "      <td>0.556364</td>\n",
              "      <td>0.548986</td>\n",
              "      <td>0.621229</td>\n",
              "      <td>0.888560</td>\n",
              "      <td>753.009238</td>\n",
              "    </tr>\n",
              "    <tr>\n",
              "      <th>150</th>\n",
              "      <td>0.444660</td>\n",
              "      <td>0.447273</td>\n",
              "      <td>0.501689</td>\n",
              "      <td>0.766725</td>\n",
              "      <td>0.584954</td>\n",
              "      <td>602.094602</td>\n",
              "    </tr>\n",
              "    <tr>\n",
              "      <th>151</th>\n",
              "      <td>0.300971</td>\n",
              "      <td>0.301818</td>\n",
              "      <td>0.298986</td>\n",
              "      <td>0.273446</td>\n",
              "      <td>0.371547</td>\n",
              "      <td>203.982334</td>\n",
              "    </tr>\n",
              "    <tr>\n",
              "      <th>152</th>\n",
              "      <td>0.466019</td>\n",
              "      <td>0.474545</td>\n",
              "      <td>0.521959</td>\n",
              "      <td>0.800663</td>\n",
              "      <td>0.596597</td>\n",
              "      <td>639.386098</td>\n",
              "    </tr>\n",
              "    <tr>\n",
              "      <th>153</th>\n",
              "      <td>0.578641</td>\n",
              "      <td>0.574545</td>\n",
              "      <td>0.586149</td>\n",
              "      <td>0.616742</td>\n",
              "      <td>0.772074</td>\n",
              "      <td>730.308597</td>\n",
              "    </tr>\n",
              "    <tr>\n",
              "      <th>154</th>\n",
              "      <td>0.351456</td>\n",
              "      <td>0.356364</td>\n",
              "      <td>0.371622</td>\n",
              "      <td>0.409180</td>\n",
              "      <td>0.512235</td>\n",
              "      <td>357.227637</td>\n",
              "    </tr>\n",
              "    <tr>\n",
              "      <th>155</th>\n",
              "      <td>0.194175</td>\n",
              "      <td>0.189091</td>\n",
              "      <td>0.209459</td>\n",
              "      <td>0.223303</td>\n",
              "      <td>0.261728</td>\n",
              "      <td>49.340008</td>\n",
              "    </tr>\n",
              "    <tr>\n",
              "      <th>156</th>\n",
              "      <td>0.792233</td>\n",
              "      <td>0.787273</td>\n",
              "      <td>0.782095</td>\n",
              "      <td>0.417782</td>\n",
              "      <td>0.722203</td>\n",
              "      <td>842.021630</td>\n",
              "    </tr>\n",
              "    <tr>\n",
              "      <th>157</th>\n",
              "      <td>0.207767</td>\n",
              "      <td>0.210909</td>\n",
              "      <td>0.206081</td>\n",
              "      <td>0.194653</td>\n",
              "      <td>0.243065</td>\n",
              "      <td>42.929631</td>\n",
              "    </tr>\n",
              "    <tr>\n",
              "      <th>158</th>\n",
              "      <td>0.073786</td>\n",
              "      <td>0.061818</td>\n",
              "      <td>0.072635</td>\n",
              "      <td>0.028180</td>\n",
              "      <td>0.016675</td>\n",
              "      <td>227.419327</td>\n",
              "    </tr>\n",
              "  </tbody>\n",
              "</table>\n",
              "</div>"
            ],
            "text/plain": [
              "      Length1   Length2   Length3    Height     Width    Predicted\n",
              "128  0.310680  0.312727  0.307432  0.280499  0.449848   244.443770\n",
              "129  0.250485  0.247273  0.268581  0.236589  0.381540   152.843018\n",
              "130  0.580583  0.592727  0.626689  0.981333  0.803408   882.230569\n",
              "131  0.411650  0.410909  0.462838  0.733838  0.530982   537.049972\n",
              "132  0.320388  0.320000  0.344595  0.414915  0.486186   319.728280\n",
              "133  0.374757  0.387273  0.437500  0.689203  0.546882   501.084988\n",
              "134  0.475728  0.483636  0.537162  0.849367  0.710758   708.531286\n",
              "135  0.508738  0.509091  0.520270  0.582334  0.778924   657.965128\n",
              "136  0.266019  0.265455  0.287162  0.500180  0.368742   252.095931\n",
              "137  0.252427  0.256364  0.256757  0.293907  0.363160   164.731667\n",
              "138  0.050485  0.040000  0.047297  0.000000  0.014208   259.921154\n",
              "139  0.242718  0.247273  0.248311  0.220221  0.415454   151.032951\n",
              "140  1.000000  1.000000  1.000000  0.527240  0.906687  1148.008846\n",
              "141  0.425243  0.429091  0.479730  0.795747  0.638870   612.865292\n",
              "142  0.543689  0.538182  0.535473  0.322812  0.497421   492.609447\n",
              "143  0.611650  0.610909  0.604730  0.642641  0.820478   784.466265\n",
              "144  0.427184  0.429091  0.481419  0.707225  0.567377   558.190705\n",
              "145  0.077670  0.069091  0.077703  0.021012  0.048771   212.805854\n",
              "146  0.225243  0.225455  0.241554  0.257670  0.330979   117.754502\n",
              "147  0.132039  0.129091  0.145270  0.281439  0.178535    20.924875\n",
              "148  0.211650  0.210909  0.229730  0.415843  0.316475   152.286851\n",
              "149  0.565049  0.556364  0.548986  0.621229  0.888560   753.009238\n",
              "150  0.444660  0.447273  0.501689  0.766725  0.584954   602.094602\n",
              "151  0.300971  0.301818  0.298986  0.273446  0.371547   203.982334\n",
              "152  0.466019  0.474545  0.521959  0.800663  0.596597   639.386098\n",
              "153  0.578641  0.574545  0.586149  0.616742  0.772074   730.308597\n",
              "154  0.351456  0.356364  0.371622  0.409180  0.512235   357.227637\n",
              "155  0.194175  0.189091  0.209459  0.223303  0.261728    49.340008\n",
              "156  0.792233  0.787273  0.782095  0.417782  0.722203   842.021630\n",
              "157  0.207767  0.210909  0.206081  0.194653  0.243065    42.929631\n",
              "158  0.073786  0.061818  0.072635  0.028180  0.016675   227.419327"
            ]
          },
          "metadata": {
            "tags": []
          },
          "execution_count": 52
        }
      ]
    },
    {
      "cell_type": "markdown",
      "metadata": {
        "id": "FsndH-dFazl0"
      },
      "source": [
        "SVM"
      ]
    },
    {
      "cell_type": "code",
      "metadata": {
        "colab": {
          "base_uri": "https://localhost:8080/"
        },
        "id": "H66NBEJ2ZtTP",
        "outputId": "f40269db-9258-456a-969c-845efb7f63e9"
      },
      "source": [
        "from sklearn.svm import SVR\n",
        "regressor = SVR(kernel = 'rbf')\n",
        "regressor.fit(X.values.reshape(-1,1),Y)"
      ],
      "execution_count": 53,
      "outputs": [
        {
          "output_type": "execute_result",
          "data": {
            "text/plain": [
              "SVR(C=1.0, cache_size=200, coef0=0.0, degree=3, epsilon=0.1, gamma='scale',\n",
              "    kernel='rbf', max_iter=-1, shrinking=True, tol=0.001, verbose=False)"
            ]
          },
          "metadata": {
            "tags": []
          },
          "execution_count": 53
        }
      ]
    },
    {
      "cell_type": "code",
      "metadata": {
        "id": "fNpajf40aC7e"
      },
      "source": [
        "y_pred = regressor.predict(pca_test.reshape(-1,1))"
      ],
      "execution_count": 55,
      "outputs": []
    },
    {
      "cell_type": "code",
      "metadata": {
        "colab": {
          "base_uri": "https://localhost:8080/"
        },
        "id": "Y2foznrEaO4V",
        "outputId": "18a87de4-c5a8-48d2-c190-87de1cc60ef2"
      },
      "source": [
        "y_pred=scaler.inverse_transform(y_pred.reshape(-1,1))\n",
        "y_pred"
      ],
      "execution_count": 57,
      "outputs": [
        {
          "output_type": "execute_result",
          "data": {
            "text/plain": [
              "array([[ 233.53723657],\n",
              "       [ 162.88316322],\n",
              "       [1026.43343108],\n",
              "       [ 524.26373646],\n",
              "       [ 311.58418878],\n",
              "       [ 496.42138236],\n",
              "       [ 668.021119  ],\n",
              "       [ 614.49434431],\n",
              "       [ 240.8301411 ],\n",
              "       [ 170.16475663],\n",
              "       [ 182.24102199],\n",
              "       [ 161.82550687],\n",
              "       [1463.35447753],\n",
              "       [ 578.18583803],\n",
              "       [ 489.40425408],\n",
              "       [ 789.77438972],\n",
              "       [ 539.50343929],\n",
              "       [ 154.36527135],\n",
              "       [ 144.74376525],\n",
              "       [ 114.43237633],\n",
              "       [ 162.55675358],\n",
              "       [ 732.413716  ],\n",
              "       [ 570.38031021],\n",
              "       [ 198.30947019],\n",
              "       [ 598.62044814],\n",
              "       [ 697.22602546],\n",
              "       [ 353.34179243],\n",
              "       [ 122.58898806],\n",
              "       [ 920.06605615],\n",
              "       [ 121.29855232],\n",
              "       [ 162.09971503]])"
            ]
          },
          "metadata": {
            "tags": []
          },
          "execution_count": 57
        }
      ]
    },
    {
      "cell_type": "markdown",
      "metadata": {
        "id": "c4SnaWIWur1a"
      },
      "source": [
        "LOGISTIC REGRESSION. \n",
        "For classifying in logistic regression have divided the target variable into two classes > mean weight and < mean weight\n",
        "  "
      ]
    },
    {
      "cell_type": "code",
      "metadata": {
        "id": "TwSsGJHzTdby"
      },
      "source": [
        "train"
      ],
      "execution_count": null,
      "outputs": []
    },
    {
      "cell_type": "code",
      "metadata": {
        "id": "_DdxspovTrFg"
      },
      "source": [
        "train=train.drop(['Species'],axis=1)\n",
        "log=train['Weight']\n",
        "train=train.drop(['Weight'],axis=1)"
      ],
      "execution_count": null,
      "outputs": []
    },
    {
      "cell_type": "code",
      "metadata": {
        "id": "KuNR7kNkT9Cv"
      },
      "source": [
        "log=scaler.fit_transform(log.values.reshape(-1,1))"
      ],
      "execution_count": null,
      "outputs": []
    },
    {
      "cell_type": "code",
      "metadata": {
        "id": "aNBo6zIMayL-"
      },
      "source": [
        "mean=log.mean()\n",
        "print(mean)"
      ],
      "execution_count": null,
      "outputs": []
    },
    {
      "cell_type": "code",
      "metadata": {
        "id": "lgT3dZXgaqlf"
      },
      "source": [
        "weight=[]\n",
        "for x in log:\n",
        "  if(x>=mean):\n",
        "    weight.append(1)\n",
        "  else:\n",
        "    weight.append(0)"
      ],
      "execution_count": null,
      "outputs": []
    },
    {
      "cell_type": "code",
      "metadata": {
        "id": "VCE9FiPcbQRT"
      },
      "source": [
        "train['Weight']=weight"
      ],
      "execution_count": null,
      "outputs": []
    },
    {
      "cell_type": "code",
      "metadata": {
        "id": "1pBQxgYQUWpM"
      },
      "source": [
        "train"
      ],
      "execution_count": null,
      "outputs": []
    },
    {
      "cell_type": "code",
      "metadata": {
        "id": "Nakt33_8C-Zf"
      },
      "source": [
        "train=train.drop(['Weight'],axis=1)"
      ],
      "execution_count": null,
      "outputs": []
    },
    {
      "cell_type": "code",
      "metadata": {
        "id": "iIngO8a9VGx2"
      },
      "source": [
        "log_train=train[0:128]\n",
        "log_y=weight[0:128]"
      ],
      "execution_count": null,
      "outputs": []
    },
    {
      "cell_type": "code",
      "metadata": {
        "id": "3pXL3HMDQV3t"
      },
      "source": [
        "#log_train=log_train.dropna()"
      ],
      "execution_count": null,
      "outputs": []
    },
    {
      "cell_type": "code",
      "metadata": {
        "id": "P1UexhIEDcx1"
      },
      "source": [
        "log_train"
      ],
      "execution_count": null,
      "outputs": []
    },
    {
      "cell_type": "code",
      "metadata": {
        "id": "yvs2CvKHDpAE"
      },
      "source": [
        "from sklearn.preprocessing import MinMaxScaler\n",
        "scaler=MinMaxScaler()"
      ],
      "execution_count": null,
      "outputs": []
    },
    {
      "cell_type": "code",
      "metadata": {
        "id": "HMsk6MNXDp-k"
      },
      "source": [
        "scaler.fit_transform(log_train)"
      ],
      "execution_count": null,
      "outputs": []
    },
    {
      "cell_type": "code",
      "metadata": {
        "id": "FcYLCsqbEJzH"
      },
      "source": [
        "from sklearn.decomposition import PCA\n",
        "pca_df2 = PCA(n_components=1)"
      ],
      "execution_count": null,
      "outputs": []
    },
    {
      "cell_type": "code",
      "metadata": {
        "id": "DY7YdLBpEe01"
      },
      "source": [
        "log_train_pca=pca_df2.fit_transform(log_train)"
      ],
      "execution_count": null,
      "outputs": []
    },
    {
      "cell_type": "code",
      "metadata": {
        "id": "YZ0b_FkLElKN"
      },
      "source": [
        "log_train_pca"
      ],
      "execution_count": null,
      "outputs": []
    },
    {
      "cell_type": "code",
      "metadata": {
        "id": "gEOMJe05WPgR"
      },
      "source": [
        "pca_train = pd.DataFrame(data = log_train_pca\n",
        "             , columns = ['principal component 1'])\n",
        "pca_train"
      ],
      "execution_count": null,
      "outputs": []
    },
    {
      "cell_type": "code",
      "metadata": {
        "id": "VSCtHMKdV4Lz"
      },
      "source": [
        "log_y=np.array(log_y)"
      ],
      "execution_count": null,
      "outputs": []
    },
    {
      "cell_type": "code",
      "metadata": {
        "id": "prcdpuovVp73"
      },
      "source": [
        "log_y=scaler.fit_transform(log_y.reshape(-1,1))"
      ],
      "execution_count": null,
      "outputs": []
    },
    {
      "cell_type": "code",
      "metadata": {
        "id": "Pmv_8gocX8v7"
      },
      "source": [
        "pca_train['Weight']=log_y"
      ],
      "execution_count": null,
      "outputs": []
    },
    {
      "cell_type": "code",
      "metadata": {
        "id": "0dypHSXrYMfz"
      },
      "source": [
        "pca_train"
      ],
      "execution_count": null,
      "outputs": []
    },
    {
      "cell_type": "code",
      "metadata": {
        "id": "6A5ExmclcV4I"
      },
      "source": [
        "pca_train=pca_train.dropna()"
      ],
      "execution_count": null,
      "outputs": []
    },
    {
      "cell_type": "code",
      "metadata": {
        "id": "Y4zuZ0XxYN8H"
      },
      "source": [
        "from sklearn.linear_model import LogisticRegression"
      ],
      "execution_count": null,
      "outputs": []
    },
    {
      "cell_type": "code",
      "metadata": {
        "id": "33vH5mxSZWRC"
      },
      "source": [
        "model2=LogisticRegression(solver='liblinear', random_state=0)"
      ],
      "execution_count": null,
      "outputs": []
    },
    {
      "cell_type": "code",
      "metadata": {
        "id": "CwygcZI_ZYER"
      },
      "source": [
        "X=pca_train['principal component 1']\n",
        "Y=pca_train['Weight']"
      ],
      "execution_count": null,
      "outputs": []
    },
    {
      "cell_type": "code",
      "metadata": {
        "id": "l0H1MyU5ZjxV"
      },
      "source": [
        "model2.fit(X.values.reshape(-1,1),Y)"
      ],
      "execution_count": null,
      "outputs": []
    },
    {
      "cell_type": "code",
      "metadata": {
        "id": "T-yocD50Zm_8"
      },
      "source": [
        "model2.classes_"
      ],
      "execution_count": null,
      "outputs": []
    },
    {
      "cell_type": "code",
      "metadata": {
        "id": "pI5SXmtzZpF8"
      },
      "source": [
        "log_test=train[128:159]\n",
        "log_test_y=weight[128:159]"
      ],
      "execution_count": null,
      "outputs": []
    },
    {
      "cell_type": "code",
      "metadata": {
        "id": "JW6LGbnIZ3W1"
      },
      "source": [
        "log_test"
      ],
      "execution_count": null,
      "outputs": []
    },
    {
      "cell_type": "code",
      "metadata": {
        "id": "CXh9cPIEae-9"
      },
      "source": [
        "scaler.fit_transform(log_test)"
      ],
      "execution_count": null,
      "outputs": []
    },
    {
      "cell_type": "code",
      "metadata": {
        "id": "5Dz4_dV5crBa"
      },
      "source": [
        "log_test_pca=pca_df2.fit_transform(log_test)"
      ],
      "execution_count": null,
      "outputs": []
    },
    {
      "cell_type": "code",
      "metadata": {
        "id": "rp9-FhUrczcD"
      },
      "source": [
        "log_test_pca"
      ],
      "execution_count": null,
      "outputs": []
    },
    {
      "cell_type": "code",
      "metadata": {
        "id": "4PKnqU0Tc16D"
      },
      "source": [
        "pca_test = pd.DataFrame(data = log_test_pca\n",
        "             , columns = ['principal component 1'])\n",
        "pca_test"
      ],
      "execution_count": null,
      "outputs": []
    },
    {
      "cell_type": "code",
      "metadata": {
        "id": "Kk-rnd8oc8-I"
      },
      "source": [
        "pca_test[\"Weight\"]=log_test_y"
      ],
      "execution_count": null,
      "outputs": []
    },
    {
      "cell_type": "code",
      "metadata": {
        "id": "nQtKaFdPdFm_"
      },
      "source": [
        "pca_test"
      ],
      "execution_count": null,
      "outputs": []
    },
    {
      "cell_type": "code",
      "metadata": {
        "id": "r23PjAhEdGxv"
      },
      "source": [
        "pca_test=pca_test.dropna()"
      ],
      "execution_count": null,
      "outputs": []
    },
    {
      "cell_type": "code",
      "metadata": {
        "id": "phbxZ9K3dKNe"
      },
      "source": [
        "np=model2.predict(pca_test['principal component 1'].values.reshape(-1,1))"
      ],
      "execution_count": null,
      "outputs": []
    },
    {
      "cell_type": "code",
      "metadata": {
        "id": "0TYfQbfpdVgu"
      },
      "source": [
        "np"
      ],
      "execution_count": null,
      "outputs": []
    },
    {
      "cell_type": "markdown",
      "metadata": {
        "id": "WnfZ0QzNvk5i"
      },
      "source": [
        "KMEANS"
      ]
    },
    {
      "cell_type": "code",
      "metadata": {
        "id": "wB9HafDrenSN"
      },
      "source": [
        "unsupervised=pd.read_csv(\"Fish.csv\")\n",
        "unsupervised=pd.DataFrame(unsupervised);"
      ],
      "execution_count": null,
      "outputs": []
    },
    {
      "cell_type": "code",
      "metadata": {
        "id": "Tf6PTe8RfPHL"
      },
      "source": [
        "unsupervised=unsupervised.sample(frac = 1)\n",
        "unsupervised.head()"
      ],
      "execution_count": null,
      "outputs": []
    },
    {
      "cell_type": "code",
      "metadata": {
        "id": "GiNAk4wdfSl3"
      },
      "source": [
        "unsupervised_y=unsupervised[\"Species\"]"
      ],
      "execution_count": null,
      "outputs": []
    },
    {
      "cell_type": "code",
      "metadata": {
        "id": "Gm3Pc4h3fgjO"
      },
      "source": [
        "unsupervised=unsupervised.drop(['Species'],axis=1)"
      ],
      "execution_count": null,
      "outputs": []
    },
    {
      "cell_type": "code",
      "metadata": {
        "id": "elaP10vufk8R"
      },
      "source": [
        "scaler.fit_transform(unsupervised)"
      ],
      "execution_count": null,
      "outputs": []
    },
    {
      "cell_type": "code",
      "metadata": {
        "id": "yqRE9lpzftVC"
      },
      "source": [
        "pca_df3=PCA(n_components=2)"
      ],
      "execution_count": null,
      "outputs": []
    },
    {
      "cell_type": "code",
      "metadata": {
        "id": "fLSbcZARf4K9"
      },
      "source": [
        "kmeans_pca=pca_df3.fit_transform(unsupervised)"
      ],
      "execution_count": null,
      "outputs": []
    },
    {
      "cell_type": "code",
      "metadata": {
        "id": "8IG8spUpf_Pw"
      },
      "source": [
        "kmeans_pca"
      ],
      "execution_count": null,
      "outputs": []
    },
    {
      "cell_type": "code",
      "metadata": {
        "id": "0pikLBbtgDQj"
      },
      "source": [
        "kmeans_pca = pd.DataFrame(data = kmeans_pca\n",
        "             , columns = ['principal component 1','principal component 2'])\n",
        "kmeans_pca"
      ],
      "execution_count": null,
      "outputs": []
    },
    {
      "cell_type": "code",
      "metadata": {
        "id": "iSIX0waxgTAm"
      },
      "source": [
        "kmeans_arr=kmeans_pca.to_numpy()"
      ],
      "execution_count": null,
      "outputs": []
    },
    {
      "cell_type": "code",
      "metadata": {
        "id": "-s30F6pMgvwa"
      },
      "source": [
        "kmeans_arr"
      ],
      "execution_count": null,
      "outputs": []
    },
    {
      "cell_type": "code",
      "metadata": {
        "id": "dMAyoasihyt_"
      },
      "source": [
        "from sklearn.cluster import KMeans\n"
      ],
      "execution_count": null,
      "outputs": []
    },
    {
      "cell_type": "code",
      "metadata": {
        "id": "Vuk2Projh8do"
      },
      "source": [
        "X=kmeans_arr"
      ],
      "execution_count": null,
      "outputs": []
    },
    {
      "cell_type": "code",
      "metadata": {
        "id": "ONqRjf_oh3hn"
      },
      "source": [
        "kmeans = KMeans(n_clusters=5, random_state=0).fit(X)"
      ],
      "execution_count": null,
      "outputs": []
    },
    {
      "cell_type": "code",
      "metadata": {
        "id": "oeQ4X5gNiBQZ"
      },
      "source": [
        "kmeans.labels_"
      ],
      "execution_count": null,
      "outputs": []
    },
    {
      "cell_type": "code",
      "metadata": {
        "id": "Zi994Wv7iIkp"
      },
      "source": [
        "y_kmeans=kmeans.predict(X)"
      ],
      "execution_count": null,
      "outputs": []
    },
    {
      "cell_type": "code",
      "metadata": {
        "id": "0rl7xmJJiPC6"
      },
      "source": [
        "plt.scatter(X[:, 0], X[:, 1], c=y_kmeans, s=50, cmap='viridis')\n",
        "\n",
        "centers = kmeans.cluster_centers_\n",
        "plt.scatter(centers[:, 0], centers[:, 1], c='red', s=200, alpha=0.5);"
      ],
      "execution_count": null,
      "outputs": []
    },
    {
      "cell_type": "markdown",
      "metadata": {
        "id": "mwCJuwMFv827"
      },
      "source": [
        "K-NEAREST NEIGHBOR"
      ]
    },
    {
      "cell_type": "code",
      "metadata": {
        "id": "5Z5hBzuXjAnM"
      },
      "source": [
        "from sklearn.neighbors import NearestNeighbors\n"
      ],
      "execution_count": null,
      "outputs": []
    },
    {
      "cell_type": "code",
      "metadata": {
        "id": "vcShdqofnAod"
      },
      "source": [
        "knn_pca=log_train_pca"
      ],
      "execution_count": null,
      "outputs": []
    },
    {
      "cell_type": "code",
      "metadata": {
        "id": "ynzT7Hf7nxa6"
      },
      "source": [
        "knn_pca"
      ],
      "execution_count": null,
      "outputs": []
    },
    {
      "cell_type": "code",
      "metadata": {
        "id": "8fxMXwGEn4aO"
      },
      "source": [
        "knn_pca = pd.DataFrame(data = knn_pca\n",
        "             , columns = ['principal component 1'])\n",
        "knn_pca"
      ],
      "execution_count": null,
      "outputs": []
    },
    {
      "cell_type": "code",
      "metadata": {
        "id": "b0zA9sTLpMeK"
      },
      "source": [
        "knn_pca['Weight']=log_y"
      ],
      "execution_count": null,
      "outputs": []
    },
    {
      "cell_type": "code",
      "metadata": {
        "id": "6dBN19K7pP1M"
      },
      "source": [
        "knn_pca"
      ],
      "execution_count": null,
      "outputs": []
    },
    {
      "cell_type": "code",
      "metadata": {
        "id": "hYhkS2_kpQx6"
      },
      "source": [
        "knn_pca=knn_pca.dropna()"
      ],
      "execution_count": null,
      "outputs": []
    },
    {
      "cell_type": "code",
      "metadata": {
        "id": "OdQq-_hJpUnc"
      },
      "source": [
        "X=knn_pca['principal component 1']\n",
        "Y=knn_pca['Weight']\n"
      ],
      "execution_count": null,
      "outputs": []
    },
    {
      "cell_type": "code",
      "metadata": {
        "id": "O5xzm8WypbtK"
      },
      "source": [
        "from sklearn.neighbors import KNeighborsClassifier\n",
        "neigh = KNeighborsClassifier(n_neighbors=10)\n",
        "model4=neigh.fit(X.values.reshape(-1,1), Y)"
      ],
      "execution_count": null,
      "outputs": []
    },
    {
      "cell_type": "code",
      "metadata": {
        "id": "lFnJRqM_pv_2"
      },
      "source": [
        "pca_test"
      ],
      "execution_count": null,
      "outputs": []
    },
    {
      "cell_type": "code",
      "metadata": {
        "id": "XieVflHaqhYO"
      },
      "source": [
        "model4.predict_proba(pca_test['principal component 1'].values.reshape(-1,1))"
      ],
      "execution_count": null,
      "outputs": []
    },
    {
      "cell_type": "markdown",
      "metadata": {
        "id": "tUnhpJkKwVk5"
      },
      "source": [
        "DECISION TREE"
      ]
    },
    {
      "cell_type": "code",
      "metadata": {
        "id": "vxCFoEcJwRlv"
      },
      "source": [
        "from sklearn.tree import DecisionTreeClassifier"
      ],
      "execution_count": null,
      "outputs": []
    },
    {
      "cell_type": "code",
      "metadata": {
        "id": "m3_PuGduxobR"
      },
      "source": [
        "log_train['Weight']=log_train_y\n",
        "log_train1=log_train[0:128]"
      ],
      "execution_count": null,
      "outputs": []
    },
    {
      "cell_type": "code",
      "metadata": {
        "id": "FF2TTpK4xthX"
      },
      "source": [
        "Y=log_train['Weight']"
      ],
      "execution_count": null,
      "outputs": []
    },
    {
      "cell_type": "code",
      "metadata": {
        "id": "UpvgxMXSxwKv"
      },
      "source": [
        "X=log_train1[['Length1',\t'Length2'\t,'Length3',\t'Height',\t'Width']]"
      ],
      "execution_count": null,
      "outputs": []
    },
    {
      "cell_type": "code",
      "metadata": {
        "id": "VAoV7TDU1mc6"
      },
      "source": [
        "feature_cols=['Length1',\t'Length2'\t,'Length3',\t'Height',\t'Width']"
      ],
      "execution_count": null,
      "outputs": []
    },
    {
      "cell_type": "code",
      "metadata": {
        "id": "CvE2tudDHxGs"
      },
      "source": [
        "log_train1"
      ],
      "execution_count": null,
      "outputs": []
    },
    {
      "cell_type": "code",
      "metadata": {
        "id": "-YA0PudSx5cH"
      },
      "source": [
        "clf = DecisionTreeClassifier()"
      ],
      "execution_count": null,
      "outputs": []
    },
    {
      "cell_type": "code",
      "metadata": {
        "id": "Nm0KgQV0ydKR"
      },
      "source": [
        "clf = clf.fit(X,Y)"
      ],
      "execution_count": null,
      "outputs": []
    },
    {
      "cell_type": "code",
      "metadata": {
        "id": "hh9REKJdyhxB"
      },
      "source": [
        "from sklearn.tree import export_graphviz\n",
        "from sklearn.externals.six import StringIO  \n",
        "from IPython.display import Image  \n",
        "import pydotplus\n",
        "\n",
        "dot_data = StringIO()\n",
        "export_graphviz(clf, out_file=dot_data,  \n",
        "                filled=True, rounded=True,\n",
        "                special_characters=True,feature_names = feature_cols,class_names=['0','1'])\n",
        "graph = pydotplus.graph_from_dot_data(dot_data.getvalue())  \n",
        "graph.write_png('diabetes.png')\n",
        "Image(graph.create_png())"
      ],
      "execution_count": null,
      "outputs": []
    },
    {
      "cell_type": "code",
      "metadata": {
        "id": "TzJrwjD225fm"
      },
      "source": [
        "log_test['Weight']=y_test"
      ],
      "execution_count": null,
      "outputs": []
    },
    {
      "cell_type": "code",
      "metadata": {
        "id": "D1QU-xLd3FTQ"
      },
      "source": [
        "log_test=log_test.drop([\"Weight\"],axis=1)"
      ],
      "execution_count": null,
      "outputs": []
    },
    {
      "cell_type": "code",
      "metadata": {
        "id": "k-2JXO9G3n9J"
      },
      "source": [
        "clf.predict(log_test)"
      ],
      "execution_count": null,
      "outputs": []
    },
    {
      "cell_type": "code",
      "metadata": {
        "id": "rrrzDqKW3sVm"
      },
      "source": [
        ""
      ],
      "execution_count": null,
      "outputs": []
    }
  ]
}